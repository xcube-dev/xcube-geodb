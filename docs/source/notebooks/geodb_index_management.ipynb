{
 "cells": [
  {
   "cell_type": "markdown",
   "source": [
    "## geoDB indexes\n",
    "\n",
    "You may create indexes on properties of your collections in geoDB. These indexes potentially speed up queries drastically, but adding too many indexes on a collection might also hamper its performance. Please use with care, and use only if you know what you are doing. This notebook will demonstrate how to work with indexes.\n",
    "\n",
    "Note that this notebook does not show any performance tests; this is due to the fact that in order for indexes to work efficiently, the collection sizes must be significantly higher than of our demonstration collections."
   ],
   "metadata": {
    "collapsed": false
   }
  },
  {
   "cell_type": "code",
   "execution_count": null,
   "outputs": [],
   "source": [
    "from xcube_geodb.core.geodb import GeoDBClient"
   ],
   "metadata": {
    "collapsed": false,
    "ExecuteTime": {
     "start_time": "2023-04-27T11:06:41.359406Z",
     "end_time": "2023-04-27T11:06:41.366408Z"
    }
   }
  },
  {
   "cell_type": "markdown",
   "metadata": {},
   "source": [
    "##  Login from any machine\n",
    "\n",
    "Install xcube geoDB with command:\n",
    "  \n",
    " `conda install xcube_geodb -c conda-forge`\n"
   ]
  },
  {
   "cell_type": "code",
   "execution_count": 20,
   "metadata": {},
   "outputs": [],
   "source": [
    "### uncomment if not in managed environment\n",
    "#client_id=YourID\n",
    "#client_secret=YourSecret\n",
    "#geodb = GeoDBClient(client_id=client_id, client_secret=client_secret, auth_mode=\"client-credentials\")"
   ]
  },
  {
   "cell_type": "markdown",
   "metadata": {},
   "source": [
    "## Login in managed environment\n",
    "\n",
    "The environment is prepared with your user credentials, so you simply can start the client."
   ]
  },
  {
   "cell_type": "code",
   "execution_count": null,
   "metadata": {},
   "outputs": [],
   "source": [
    "geodb = GeoDBClient()"
   ]
  },
  {
   "cell_type": "markdown",
   "source": [
    "## Show current user, and create a collection, as shown in the notebook _Manage collections_"
   ],
   "metadata": {
    "collapsed": false
   }
  },
  {
   "cell_type": "code",
   "execution_count": null,
   "outputs": [],
   "source": [
    "print(geodb.whoami)\n",
    "collection_name = \"land_use\"\n",
    "collections = {\n",
    "    collection_name: {\"crs\": 3794, \"properties\": {\"RABA_PID\": \"float\",\n",
    "                                                  \"RABA_ID\": \"float\",\n",
    "                                                  \"D_OD\": \"date\"\n",
    "                                                  }\n",
    "                      }\n",
    "}\n",
    "geodb.create_collections(collections, clear=True)\n",
    "import geopandas\n",
    "gdf = geopandas.read_file('data/sample/land_use.shp')\n",
    "m = geodb.insert_into_collection(collection_name, gdf)\n",
    "str(m)"
   ],
   "metadata": {
    "collapsed": false,
    "ExecuteTime": {
     "start_time": "2023-04-27T14:44:43.838017Z",
     "end_time": "2023-04-27T14:44:53.490181Z"
    }
   }
  },
  {
   "cell_type": "markdown",
   "source": [
    "## Create an index on the geometry of the new collection"
   ],
   "metadata": {
    "collapsed": false
   }
  },
  {
   "cell_type": "code",
   "execution_count": null,
   "outputs": [],
   "source": [
    "m = geodb.create_index(collection_name, 'geometry')\n",
    "str(m)"
   ],
   "metadata": {
    "collapsed": false,
    "ExecuteTime": {
     "start_time": "2023-04-27T14:45:04.727093Z",
     "end_time": "2023-04-27T14:45:14.004656Z"
    }
   }
  },
  {
   "cell_type": "markdown",
   "source": [
    "## Show the indexes on the collection.\n",
	"\n",
	"Note that there are two indexes: geoDB automatically creates an index on the collection's id."
   ],
   "metadata": {
    "collapsed": false
   }
  },
  {
   "cell_type": "code",
   "execution_count": null,
   "outputs": [],
   "source": [
    "print(geodb.show_indexes(collection_name))"
   ],
   "metadata": {
    "collapsed": false,
    "ExecuteTime": {
     "start_time": "2023-04-27T14:47:54.639776Z",
     "end_time": "2023-04-27T14:47:57.298118Z"
    }
   }
  },
  {
   "cell_type": "markdown",
   "source": [
    "## Running a sample query which does a geometric lookup\n",
	"\n",
	"For collections of the size of the demonstration collection, the query will not use the index, but if you run a similar query on a larger collection, you will experience huge performance gains."
   ],
   "metadata": {
    "collapsed": false
   }
  },
  {
   "cell_type": "code",
   "execution_count": null,
   "outputs": [],
   "source": [
    "geodb.get_collection_by_bbox(collection_name, bbox=(453952, 91124, 456136, 93054), bbox_crs=3794)"
   ],
   "metadata": {
    "collapsed": false,
    "ExecuteTime": {
     "start_time": "2023-04-27T14:48:04.188885Z",
     "end_time": "2023-04-27T14:48:12.356496Z"
    }
   }
  },
  {
   "cell_type": "markdown",
   "source": [
    "## Remove the index again.\n",
	"\n",
	"This is useful e.g. if you have created too many indexes, and thus ingestion speed is reduced."
   ],
   "metadata": {
    "collapsed": false
   }
  },
  {
   "cell_type": "code",
   "execution_count": null,
   "outputs": [],
   "source": [
    "geodb.remove_index(collection_name, 'geometry')"
   ],
   "metadata": {
    "collapsed": false,
    "ExecuteTime": {
     "start_time": "2023-04-27T15:00:49.732528Z",
     "end_time": "2023-04-27T15:01:16.554351Z"
    }
   }
  },
  {
   "cell_type": "markdown",
   "source": [
    "## Finally, clean up"
   ],
   "metadata": {
    "collapsed": false
   }
  },
  {
   "cell_type": "code",
   "execution_count": null,
   "outputs": [],
   "source": [
    "geodb.drop_collection(collection_name)"
   ],
   "metadata": {
    "collapsed": false
   }
  }
 ],
 "metadata": {
  "kernelspec": {
   "display_name": "Python 3 (ipykernel)",
   "language": "python",
   "name": "python3"
  },
  "language_info": {
   "codemirror_mode": {
    "name": "ipython",
    "version": 3
   },
   "file_extension": ".py",
   "mimetype": "text/x-python",
   "name": "python",
   "nbconvert_exporter": "python",
   "pygments_lexer": "ipython3",
   "version": "3.9.12"
  }
 },
 "nbformat": 4,
 "nbformat_minor": 5
}
