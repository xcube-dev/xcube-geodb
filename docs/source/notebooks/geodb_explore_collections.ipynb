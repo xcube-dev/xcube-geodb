{
 "cells": [
  {
   "cell_type": "markdown",
   "metadata": {},
   "source": [
    "# Exploring Data\n",
    "\n",
    "This notebook demonstrates how to store sample data in the xcube geoDB, and shows basic exploration possibilities."
   ]
  },
  {
   "cell_type": "code",
   "execution_count": 1,
   "metadata": {},
   "outputs": [],
   "source": [
    "from xcube_geodb.core.geodb import GeoDBClient"
   ]
  },
  {
   "cell_type": "markdown",
   "metadata": {},
   "source": [
    "##  Login from any machine\n",
    "\n",
    "Install xcube geoDB with command:\n",
    "  \n",
    " `conda install xcube_geodb -c conda-forge`\n"
   ]
  },
  {
   "cell_type": "code",
   "execution_count": 20,
   "metadata": {},
   "outputs": [],
   "source": [
    "### uncomment if not in managed environment\n",
    "#client_id=YourID\n",
    "#client_secret=YourSecret\n",
    "#geodb = GeoDBClient(client_id=client_id, client_secret=client_secret, auth_mode=\"client-credentials\")\n",
    "\n",
    "\n",
    "# remove the following two lines when merging into main!\n",
    "import os\n",
    "\n",
    "os.environ[\"GEODB_API_SERVER_URL\"] = \"https://xcube-geodb.dev.brockmann-consult.de\""
   ]
  },
  {
   "cell_type": "markdown",
   "metadata": {},
   "source": [
    "## Login in managed environment\n",
    "\n",
    "The environment is prepared with your user credentials, so you simply can start the client."
   ]
  },
  {
   "cell_type": "code",
   "execution_count": null,
   "metadata": {},
   "outputs": [],
   "source": [
    "geodb = GeoDBClient()"
   ]
  },
  {
   "cell_type": "markdown",
   "metadata": {},
   "source": [
    "## Get your user name"
   ]
  },
  {
   "cell_type": "code",
   "execution_count": 3,
   "metadata": {},
   "outputs": [
    {
     "data": {
      "text/plain": [
       "'geodb_ci_test_user'"
      ]
     },
     "execution_count": 3,
     "metadata": {},
     "output_type": "execute_result"
    }
   ],
   "source": [
    "geodb.whoami"
   ]
  },
  {
   "cell_type": "code",
   "execution_count": 4,
   "metadata": {},
   "outputs": [
    {
     "data": {
      "text/html": [
       "<div>\n",
       "<style scoped>\n",
       "    .dataframe tbody tr th:only-of-type {\n",
       "        vertical-align: middle;\n",
       "    }\n",
       "\n",
       "    .dataframe tbody tr th {\n",
       "        vertical-align: top;\n",
       "    }\n",
       "\n",
       "    .dataframe thead th {\n",
       "        text-align: right;\n",
       "    }\n",
       "</style>\n",
       "<table border=\"1\" class=\"dataframe\">\n",
       "  <thead>\n",
       "    <tr style=\"text-align: right;\">\n",
       "      <th></th>\n",
       "      <th>owner</th>\n",
       "      <th>database</th>\n",
       "      <th>table_name</th>\n",
       "    </tr>\n",
       "  </thead>\n",
       "  <tbody>\n",
       "    <tr>\n",
       "      <th>0</th>\n",
       "      <td>geodb_9bfgsdfg-453f-445b-a459</td>\n",
       "      <td>geodb_9bfgsdfg-453f-445b-a459</td>\n",
       "      <td>land_use</td>\n",
       "    </tr>\n",
       "    <tr>\n",
       "      <th>1</th>\n",
       "      <td>tt</td>\n",
       "      <td>tt</td>\n",
       "      <td>tt300</td>\n",
       "    </tr>\n",
       "  </tbody>\n",
       "</table>\n",
       "</div>"
      ],
      "text/plain": [
       "                           owner                       database table_name\n",
       "0  geodb_9bfgsdfg-453f-445b-a459  geodb_9bfgsdfg-453f-445b-a459   land_use\n",
       "1                             tt                             tt      tt300"
      ]
     },
     "execution_count": 4,
     "metadata": {},
     "output_type": "execute_result"
    }
   ],
   "source": [
    "geodb.get_my_collections()\n"
   ]
  },
  {
   "cell_type": "code",
   "execution_count": 5,
   "metadata": {},
   "outputs": [
    {
     "data": {
      "text/plain": [
       "{'collections': {'geodb_ci_test_user_land_use': {'crs': 3794,\n",
       "                                                 'properties': {'D_OD': 'date',\n",
       "                                                                'RABA_ID': 'float',\n",
       "                                                                'RABA_PID': 'float'}}}}"
      ]
     },
     "execution_count": 5,
     "metadata": {},
     "output_type": "execute_result"
    }
   ],
   "source": [
    "import geopandas\n",
    "\n",
    "collections = {\n",
    "    \"land_use\":\n",
    "        {\n",
    "            \"crs\": 3794,\n",
    "            \"properties\":\n",
    "                {\n",
    "                    \"RABA_PID\": \"float\",\n",
    "                    \"RABA_ID\": \"float\",\n",
    "                    \"D_OD\": \"date\"\n",
    "                }\n",
    "        }\n",
    "}\n",
    "\n",
    "geodb.create_collections(collections, clear=True)\n",
    "\n"
   ]
  },
  {
   "cell_type": "code",
   "execution_count": 6,
   "metadata": {},
   "outputs": [
    {
     "name": "stdout",
     "output_type": "stream",
     "text": [
      "Processing rows from 0 to 100\n"
     ]
    },
    {
     "data": {
      "text/plain": [
       "100 rows inserted into land_use"
      ]
     },
     "execution_count": 6,
     "metadata": {},
     "output_type": "execute_result"
    }
   ],
   "source": [
    "gdf = geopandas.read_file('data/sample/land_use.shp')\n",
    "geodb.insert_into_collection('land_use', gdf.iloc[\n",
    "    :100, :])  # minimizing rows to 100, if you are in EDC, you dont need to make the subset."
   ]
  },
  {
   "cell_type": "markdown",
   "metadata": {
    "pycharm": {
     "is_executing": false
    }
   },
   "source": [
    "## List Datasets\n",
    "\n",
    "__Step 1__: List all datasets a user has access to."
   ]
  },
  {
   "cell_type": "code",
   "execution_count": 7,
   "metadata": {},
   "outputs": [
    {
     "data": {
      "text/plain": [
       "{'usage': '96 kB'}"
      ]
     },
     "execution_count": 7,
     "metadata": {},
     "output_type": "execute_result"
    }
   ],
   "source": "geodb.get_my_usage()  # to be updated so that all available collections are displayed includign sensible information ont heir availability, e.g. public, purchased, etc.."
  },
  {
   "cell_type": "code",
   "execution_count": 8,
   "metadata": {},
   "outputs": [
    {
     "data": {
      "text/html": [
       "<div>\n",
       "<style scoped>\n",
       "    .dataframe tbody tr th:only-of-type {\n",
       "        vertical-align: middle;\n",
       "    }\n",
       "\n",
       "    .dataframe tbody tr th {\n",
       "        vertical-align: top;\n",
       "    }\n",
       "\n",
       "    .dataframe thead th {\n",
       "        text-align: right;\n",
       "    }\n",
       "</style>\n",
       "<table border=\"1\" class=\"dataframe\">\n",
       "  <thead>\n",
       "    <tr style=\"text-align: right;\">\n",
       "      <th></th>\n",
       "      <th>owner</th>\n",
       "      <th>database</th>\n",
       "      <th>table_name</th>\n",
       "    </tr>\n",
       "  </thead>\n",
       "  <tbody>\n",
       "    <tr>\n",
       "      <th>0</th>\n",
       "      <td>geodb_9bfgsdfg-453f-445b-a459</td>\n",
       "      <td>geodb_9bfgsdfg-453f-445b-a459</td>\n",
       "      <td>land_use</td>\n",
       "    </tr>\n",
       "    <tr>\n",
       "      <th>1</th>\n",
       "      <td>geodb_ci_test_user</td>\n",
       "      <td>geodb_ci_test_user</td>\n",
       "      <td>land_use</td>\n",
       "    </tr>\n",
       "    <tr>\n",
       "      <th>2</th>\n",
       "      <td>tt</td>\n",
       "      <td>tt</td>\n",
       "      <td>tt300</td>\n",
       "    </tr>\n",
       "  </tbody>\n",
       "</table>\n",
       "</div>"
      ],
      "text/plain": [
       "                           owner                       database table_name\n",
       "0  geodb_9bfgsdfg-453f-445b-a459  geodb_9bfgsdfg-453f-445b-a459   land_use\n",
       "1             geodb_ci_test_user             geodb_ci_test_user   land_use\n",
       "2                             tt                             tt      tt300"
      ]
     },
     "execution_count": 8,
     "metadata": {},
     "output_type": "execute_result"
    }
   ],
   "source": [
    "geodb.get_my_collections()"
   ]
  },
  {
   "cell_type": "markdown",
   "metadata": {},
   "source": [
    "__Step 2__: Let's get the whole content of a particular data set."
   ]
  },
  {
   "cell_type": "code",
   "execution_count": 9,
   "metadata": {},
   "outputs": [
    {
     "data": {
      "text/html": [
       "<div>\n",
       "<style scoped>\n",
       "    .dataframe tbody tr th:only-of-type {\n",
       "        vertical-align: middle;\n",
       "    }\n",
       "\n",
       "    .dataframe tbody tr th {\n",
       "        vertical-align: top;\n",
       "    }\n",
       "\n",
       "    .dataframe thead th {\n",
       "        text-align: right;\n",
       "    }\n",
       "</style>\n",
       "<table border=\"1\" class=\"dataframe\">\n",
       "  <thead>\n",
       "    <tr style=\"text-align: right;\">\n",
       "      <th></th>\n",
       "      <th>id</th>\n",
       "      <th>created_at</th>\n",
       "      <th>modified_at</th>\n",
       "      <th>geometry</th>\n",
       "      <th>raba_pid</th>\n",
       "      <th>raba_id</th>\n",
       "      <th>d_od</th>\n",
       "    </tr>\n",
       "  </thead>\n",
       "  <tbody>\n",
       "    <tr>\n",
       "      <th>0</th>\n",
       "      <td>1</td>\n",
       "      <td>2021-01-22T10:02:34.390867+00:00</td>\n",
       "      <td>None</td>\n",
       "      <td>POLYGON ((453952.629 91124.177, 453952.696 911...</td>\n",
       "      <td>4770326</td>\n",
       "      <td>1410</td>\n",
       "      <td>2019-03-26</td>\n",
       "    </tr>\n",
       "    <tr>\n",
       "      <th>1</th>\n",
       "      <td>2</td>\n",
       "      <td>2021-01-22T10:02:34.390867+00:00</td>\n",
       "      <td>None</td>\n",
       "      <td>POLYGON ((453810.376 91150.199, 453812.552 911...</td>\n",
       "      <td>4770325</td>\n",
       "      <td>1300</td>\n",
       "      <td>2019-03-26</td>\n",
       "    </tr>\n",
       "    <tr>\n",
       "      <th>2</th>\n",
       "      <td>3</td>\n",
       "      <td>2021-01-22T10:02:34.390867+00:00</td>\n",
       "      <td>None</td>\n",
       "      <td>POLYGON ((456099.635 97696.070, 456112.810 976...</td>\n",
       "      <td>2305689</td>\n",
       "      <td>7000</td>\n",
       "      <td>2019-02-25</td>\n",
       "    </tr>\n",
       "    <tr>\n",
       "      <th>3</th>\n",
       "      <td>4</td>\n",
       "      <td>2021-01-22T10:02:34.390867+00:00</td>\n",
       "      <td>None</td>\n",
       "      <td>POLYGON ((455929.405 97963.785, 455933.284 979...</td>\n",
       "      <td>2305596</td>\n",
       "      <td>1100</td>\n",
       "      <td>2019-02-25</td>\n",
       "    </tr>\n",
       "    <tr>\n",
       "      <th>4</th>\n",
       "      <td>5</td>\n",
       "      <td>2021-01-22T10:02:34.390867+00:00</td>\n",
       "      <td>None</td>\n",
       "      <td>POLYGON ((461561.512 96119.256, 461632.114 960...</td>\n",
       "      <td>2310160</td>\n",
       "      <td>1100</td>\n",
       "      <td>2019-03-11</td>\n",
       "    </tr>\n",
       "    <tr>\n",
       "      <th>...</th>\n",
       "      <td>...</td>\n",
       "      <td>...</td>\n",
       "      <td>...</td>\n",
       "      <td>...</td>\n",
       "      <td>...</td>\n",
       "      <td>...</td>\n",
       "      <td>...</td>\n",
       "    </tr>\n",
       "    <tr>\n",
       "      <th>95</th>\n",
       "      <td>96</td>\n",
       "      <td>2021-01-22T10:02:34.390867+00:00</td>\n",
       "      <td>None</td>\n",
       "      <td>POLYGON ((458514.067 93026.352, 458513.306 930...</td>\n",
       "      <td>5960564</td>\n",
       "      <td>1600</td>\n",
       "      <td>2019-01-11</td>\n",
       "    </tr>\n",
       "    <tr>\n",
       "      <th>96</th>\n",
       "      <td>97</td>\n",
       "      <td>2021-01-22T10:02:34.390867+00:00</td>\n",
       "      <td>None</td>\n",
       "      <td>POLYGON ((458259.239 93110.981, 458259.022 931...</td>\n",
       "      <td>5960569</td>\n",
       "      <td>3000</td>\n",
       "      <td>2019-01-11</td>\n",
       "    </tr>\n",
       "    <tr>\n",
       "      <th>97</th>\n",
       "      <td>98</td>\n",
       "      <td>2021-01-22T10:02:34.390867+00:00</td>\n",
       "      <td>None</td>\n",
       "      <td>POLYGON ((458199.608 93099.296, 458199.825 930...</td>\n",
       "      <td>5960630</td>\n",
       "      <td>3000</td>\n",
       "      <td>2019-01-11</td>\n",
       "    </tr>\n",
       "    <tr>\n",
       "      <th>98</th>\n",
       "      <td>99</td>\n",
       "      <td>2021-01-22T10:02:34.390867+00:00</td>\n",
       "      <td>None</td>\n",
       "      <td>POLYGON ((458189.403 93071.618, 458179.669 930...</td>\n",
       "      <td>5960648</td>\n",
       "      <td>1100</td>\n",
       "      <td>2019-01-11</td>\n",
       "    </tr>\n",
       "    <tr>\n",
       "      <th>99</th>\n",
       "      <td>100</td>\n",
       "      <td>2021-01-22T10:02:34.390867+00:00</td>\n",
       "      <td>None</td>\n",
       "      <td>POLYGON ((454901.777 95801.099, 454889.964 958...</td>\n",
       "      <td>2353305</td>\n",
       "      <td>1321</td>\n",
       "      <td>2019-01-05</td>\n",
       "    </tr>\n",
       "  </tbody>\n",
       "</table>\n",
       "<p>100 rows × 7 columns</p>\n",
       "</div>"
      ],
      "text/plain": [
       "     id                        created_at modified_at  \\\n",
       "0     1  2021-01-22T10:02:34.390867+00:00        None   \n",
       "1     2  2021-01-22T10:02:34.390867+00:00        None   \n",
       "2     3  2021-01-22T10:02:34.390867+00:00        None   \n",
       "3     4  2021-01-22T10:02:34.390867+00:00        None   \n",
       "4     5  2021-01-22T10:02:34.390867+00:00        None   \n",
       "..  ...                               ...         ...   \n",
       "95   96  2021-01-22T10:02:34.390867+00:00        None   \n",
       "96   97  2021-01-22T10:02:34.390867+00:00        None   \n",
       "97   98  2021-01-22T10:02:34.390867+00:00        None   \n",
       "98   99  2021-01-22T10:02:34.390867+00:00        None   \n",
       "99  100  2021-01-22T10:02:34.390867+00:00        None   \n",
       "\n",
       "                                             geometry  raba_pid  raba_id  \\\n",
       "0   POLYGON ((453952.629 91124.177, 453952.696 911...   4770326     1410   \n",
       "1   POLYGON ((453810.376 91150.199, 453812.552 911...   4770325     1300   \n",
       "2   POLYGON ((456099.635 97696.070, 456112.810 976...   2305689     7000   \n",
       "3   POLYGON ((455929.405 97963.785, 455933.284 979...   2305596     1100   \n",
       "4   POLYGON ((461561.512 96119.256, 461632.114 960...   2310160     1100   \n",
       "..                                                ...       ...      ...   \n",
       "95  POLYGON ((458514.067 93026.352, 458513.306 930...   5960564     1600   \n",
       "96  POLYGON ((458259.239 93110.981, 458259.022 931...   5960569     3000   \n",
       "97  POLYGON ((458199.608 93099.296, 458199.825 930...   5960630     3000   \n",
       "98  POLYGON ((458189.403 93071.618, 458179.669 930...   5960648     1100   \n",
       "99  POLYGON ((454901.777 95801.099, 454889.964 958...   2353305     1321   \n",
       "\n",
       "          d_od  \n",
       "0   2019-03-26  \n",
       "1   2019-03-26  \n",
       "2   2019-02-25  \n",
       "3   2019-02-25  \n",
       "4   2019-03-11  \n",
       "..         ...  \n",
       "95  2019-01-11  \n",
       "96  2019-01-11  \n",
       "97  2019-01-11  \n",
       "98  2019-01-11  \n",
       "99  2019-01-05  \n",
       "\n",
       "[100 rows x 7 columns]"
      ]
     },
     "execution_count": 9,
     "metadata": {},
     "output_type": "execute_result"
    }
   ],
   "source": [
    "gdf = geodb.get_collection(\n",
    "    'land_use')  # to be updated, so that namespace is not needed or something more suitable, e.g. 'public'\n",
    "gdf"
   ]
  },
  {
   "cell_type": "markdown",
   "metadata": {},
   "source": [
    "__Step 3__: Plot the GeoDataframe, select a reasonable column to diplay"
   ]
  },
  {
   "cell_type": "code",
   "execution_count": 10,
   "metadata": {
    "pycharm": {
     "is_executing": false
    }
   },
   "outputs": [
    {
     "data": {
      "text/plain": [
       "<matplotlib.axes._subplots.AxesSubplot at 0x7f323b4fa190>"
      ]
     },
     "execution_count": 10,
     "metadata": {},
     "output_type": "execute_result"
    },
    {
     "data": {
      "image/png": "[encoded data removed]",
      "text/plain": [
       "<Figure size 1080x1080 with 1 Axes>"
      ]
     },
     "metadata": {
      "needs_background": "light"
     },
     "output_type": "display_data"
    }
   ],
   "source": "gdf.plot(column=\"raba_id\", figsize=(15, 15), cmap='jet')"
  },
  {
   "cell_type": "markdown",
   "metadata": {},
   "source": [
    "__Step 5__: Subselect the data. Here: Select a specific use by defining an ID value to choose "
   ]
  },
  {
   "cell_type": "code",
   "execution_count": 11,
   "metadata": {},
   "outputs": [
    {
     "data": {
      "text/html": [
       "<div>\n",
       "<style scoped>\n",
       "    .dataframe tbody tr th:only-of-type {\n",
       "        vertical-align: middle;\n",
       "    }\n",
       "\n",
       "    .dataframe tbody tr th {\n",
       "        vertical-align: top;\n",
       "    }\n",
       "\n",
       "    .dataframe thead th {\n",
       "        text-align: right;\n",
       "    }\n",
       "</style>\n",
       "<table border=\"1\" class=\"dataframe\">\n",
       "  <thead>\n",
       "    <tr style=\"text-align: right;\">\n",
       "      <th></th>\n",
       "      <th>id</th>\n",
       "      <th>created_at</th>\n",
       "      <th>modified_at</th>\n",
       "      <th>geometry</th>\n",
       "      <th>raba_pid</th>\n",
       "      <th>raba_id</th>\n",
       "      <th>d_od</th>\n",
       "    </tr>\n",
       "  </thead>\n",
       "  <tbody>\n",
       "    <tr>\n",
       "      <th>0</th>\n",
       "      <td>1</td>\n",
       "      <td>2021-01-22T10:02:34.390867+00:00</td>\n",
       "      <td>None</td>\n",
       "      <td>POLYGON ((453952.629 91124.177, 453952.696 911...</td>\n",
       "      <td>4770326</td>\n",
       "      <td>1410</td>\n",
       "      <td>2019-03-26</td>\n",
       "    </tr>\n",
       "    <tr>\n",
       "      <th>1</th>\n",
       "      <td>62</td>\n",
       "      <td>2021-01-22T10:02:34.390867+00:00</td>\n",
       "      <td>None</td>\n",
       "      <td>POLYGON ((457261.001 96349.254, 457256.831 963...</td>\n",
       "      <td>3596498</td>\n",
       "      <td>1410</td>\n",
       "      <td>2019-01-05</td>\n",
       "    </tr>\n",
       "    <tr>\n",
       "      <th>2</th>\n",
       "      <td>22</td>\n",
       "      <td>2021-01-22T10:02:34.390867+00:00</td>\n",
       "      <td>None</td>\n",
       "      <td>POLYGON ((455384.809 97907.054, 455380.659 979...</td>\n",
       "      <td>3616776</td>\n",
       "      <td>1410</td>\n",
       "      <td>2019-02-25</td>\n",
       "    </tr>\n",
       "    <tr>\n",
       "      <th>3</th>\n",
       "      <td>28</td>\n",
       "      <td>2021-01-22T10:02:34.390867+00:00</td>\n",
       "      <td>None</td>\n",
       "      <td>POLYGON ((462585.734 93088.987, 462567.020 930...</td>\n",
       "      <td>3826126</td>\n",
       "      <td>1410</td>\n",
       "      <td>2019-01-23</td>\n",
       "    </tr>\n",
       "    <tr>\n",
       "      <th>4</th>\n",
       "      <td>32</td>\n",
       "      <td>2021-01-22T10:02:34.390867+00:00</td>\n",
       "      <td>None</td>\n",
       "      <td>POLYGON ((457748.827 96167.354, 457748.394 961...</td>\n",
       "      <td>2309744</td>\n",
       "      <td>1410</td>\n",
       "      <td>2019-01-05</td>\n",
       "    </tr>\n",
       "  </tbody>\n",
       "</table>\n",
       "</div>"
      ],
      "text/plain": [
       "   id                        created_at modified_at  \\\n",
       "0   1  2021-01-22T10:02:34.390867+00:00        None   \n",
       "1  62  2021-01-22T10:02:34.390867+00:00        None   \n",
       "2  22  2021-01-22T10:02:34.390867+00:00        None   \n",
       "3  28  2021-01-22T10:02:34.390867+00:00        None   \n",
       "4  32  2021-01-22T10:02:34.390867+00:00        None   \n",
       "\n",
       "                                            geometry  raba_pid  raba_id  \\\n",
       "0  POLYGON ((453952.629 91124.177, 453952.696 911...   4770326     1410   \n",
       "1  POLYGON ((457261.001 96349.254, 457256.831 963...   3596498     1410   \n",
       "2  POLYGON ((455384.809 97907.054, 455380.659 979...   3616776     1410   \n",
       "3  POLYGON ((462585.734 93088.987, 462567.020 930...   3826126     1410   \n",
       "4  POLYGON ((457748.827 96167.354, 457748.394 961...   2309744     1410   \n",
       "\n",
       "         d_od  \n",
       "0  2019-03-26  \n",
       "1  2019-01-05  \n",
       "2  2019-02-25  \n",
       "3  2019-01-23  \n",
       "4  2019-01-05  "
      ]
     },
     "execution_count": 11,
     "metadata": {},
     "output_type": "execute_result"
    }
   ],
   "source": [
    "gdfsub = geodb.get_collection('land_use', query='raba_id=eq.1410')\n",
    "gdfsub.head()"
   ]
  },
  {
   "cell_type": "code",
   "execution_count": 12,
   "metadata": {},
   "outputs": [
    {
     "data": {
      "text/plain": [
       "<matplotlib.axes._subplots.AxesSubplot at 0x7f323b199190>"
      ]
     },
     "execution_count": 12,
     "metadata": {},
     "output_type": "execute_result"
    },
    {
     "data": {
      "image/png": "[encoded data removed]",
      "text/plain": [
       "<Figure size 1080x1080 with 1 Axes>"
      ]
     },
     "metadata": {
      "needs_background": "light"
     },
     "output_type": "display_data"
    }
   ],
   "source": "gdfsub.plot(column=\"raba_id\", figsize=(15, 15), cmap='jet')"
  },
  {
   "cell_type": "markdown",
   "metadata": {},
   "source": [
    "__Step 6__: Filter by bbox, limit it to 200 entries"
   ]
  },
  {
   "cell_type": "code",
   "execution_count": 13,
   "metadata": {},
   "outputs": [
    {
     "data": {
      "text/html": [
       "<div>\n",
       "<style scoped>\n",
       "    .dataframe tbody tr th:only-of-type {\n",
       "        vertical-align: middle;\n",
       "    }\n",
       "\n",
       "    .dataframe tbody tr th {\n",
       "        vertical-align: top;\n",
       "    }\n",
       "\n",
       "    .dataframe thead th {\n",
       "        text-align: right;\n",
       "    }\n",
       "</style>\n",
       "<table border=\"1\" class=\"dataframe\">\n",
       "  <thead>\n",
       "    <tr style=\"text-align: right;\">\n",
       "      <th></th>\n",
       "      <th>id</th>\n",
       "      <th>created_at</th>\n",
       "      <th>modified_at</th>\n",
       "      <th>geometry</th>\n",
       "      <th>raba_pid</th>\n",
       "      <th>raba_id</th>\n",
       "      <th>d_od</th>\n",
       "    </tr>\n",
       "  </thead>\n",
       "  <tbody>\n",
       "    <tr>\n",
       "      <th>0</th>\n",
       "      <td>11</td>\n",
       "      <td>2021-01-22T10:02:34.390867+00:00</td>\n",
       "      <td>None</td>\n",
       "      <td>POLYGON ((460137.998 95628.898, 460111.001 956...</td>\n",
       "      <td>5983161</td>\n",
       "      <td>1100</td>\n",
       "      <td>2019-03-11</td>\n",
       "    </tr>\n",
       "    <tr>\n",
       "      <th>1</th>\n",
       "      <td>12</td>\n",
       "      <td>2021-01-22T10:02:34.390867+00:00</td>\n",
       "      <td>None</td>\n",
       "      <td>POLYGON ((453673.609 91328.224, 453678.929 913...</td>\n",
       "      <td>5983074</td>\n",
       "      <td>1600</td>\n",
       "      <td>2019-03-26</td>\n",
       "    </tr>\n",
       "    <tr>\n",
       "      <th>2</th>\n",
       "      <td>13</td>\n",
       "      <td>2021-01-22T10:02:34.390867+00:00</td>\n",
       "      <td>None</td>\n",
       "      <td>POLYGON ((460312.295 96127.114, 460300.319 961...</td>\n",
       "      <td>5983199</td>\n",
       "      <td>1600</td>\n",
       "      <td>2019-03-11</td>\n",
       "    </tr>\n",
       "    <tr>\n",
       "      <th>3</th>\n",
       "      <td>14</td>\n",
       "      <td>2021-01-22T10:02:34.390867+00:00</td>\n",
       "      <td>None</td>\n",
       "      <td>POLYGON ((460459.445 96117.356, 460470.516 961...</td>\n",
       "      <td>5983217</td>\n",
       "      <td>1100</td>\n",
       "      <td>2019-03-11</td>\n",
       "    </tr>\n",
       "    <tr>\n",
       "      <th>4</th>\n",
       "      <td>15</td>\n",
       "      <td>2021-01-22T10:02:34.390867+00:00</td>\n",
       "      <td>None</td>\n",
       "      <td>POLYGON ((457798.753 99628.982, 457783.076 996...</td>\n",
       "      <td>6299143</td>\n",
       "      <td>1600</td>\n",
       "      <td>2019-03-04</td>\n",
       "    </tr>\n",
       "    <tr>\n",
       "      <th>...</th>\n",
       "      <td>...</td>\n",
       "      <td>...</td>\n",
       "      <td>...</td>\n",
       "      <td>...</td>\n",
       "      <td>...</td>\n",
       "      <td>...</td>\n",
       "      <td>...</td>\n",
       "    </tr>\n",
       "    <tr>\n",
       "      <th>85</th>\n",
       "      <td>96</td>\n",
       "      <td>2021-01-22T10:02:34.390867+00:00</td>\n",
       "      <td>None</td>\n",
       "      <td>POLYGON ((458514.067 93026.352, 458513.306 930...</td>\n",
       "      <td>5960564</td>\n",
       "      <td>1600</td>\n",
       "      <td>2019-01-11</td>\n",
       "    </tr>\n",
       "    <tr>\n",
       "      <th>86</th>\n",
       "      <td>97</td>\n",
       "      <td>2021-01-22T10:02:34.390867+00:00</td>\n",
       "      <td>None</td>\n",
       "      <td>POLYGON ((458259.239 93110.981, 458259.022 931...</td>\n",
       "      <td>5960569</td>\n",
       "      <td>3000</td>\n",
       "      <td>2019-01-11</td>\n",
       "    </tr>\n",
       "    <tr>\n",
       "      <th>87</th>\n",
       "      <td>98</td>\n",
       "      <td>2021-01-22T10:02:34.390867+00:00</td>\n",
       "      <td>None</td>\n",
       "      <td>POLYGON ((458199.608 93099.296, 458199.825 930...</td>\n",
       "      <td>5960630</td>\n",
       "      <td>3000</td>\n",
       "      <td>2019-01-11</td>\n",
       "    </tr>\n",
       "    <tr>\n",
       "      <th>88</th>\n",
       "      <td>99</td>\n",
       "      <td>2021-01-22T10:02:34.390867+00:00</td>\n",
       "      <td>None</td>\n",
       "      <td>POLYGON ((458189.403 93071.618, 458179.669 930...</td>\n",
       "      <td>5960648</td>\n",
       "      <td>1100</td>\n",
       "      <td>2019-01-11</td>\n",
       "    </tr>\n",
       "    <tr>\n",
       "      <th>89</th>\n",
       "      <td>100</td>\n",
       "      <td>2021-01-22T10:02:34.390867+00:00</td>\n",
       "      <td>None</td>\n",
       "      <td>POLYGON ((454901.777 95801.099, 454889.964 958...</td>\n",
       "      <td>2353305</td>\n",
       "      <td>1321</td>\n",
       "      <td>2019-01-05</td>\n",
       "    </tr>\n",
       "  </tbody>\n",
       "</table>\n",
       "<p>90 rows × 7 columns</p>\n",
       "</div>"
      ],
      "text/plain": [
       "     id                        created_at modified_at  \\\n",
       "0    11  2021-01-22T10:02:34.390867+00:00        None   \n",
       "1    12  2021-01-22T10:02:34.390867+00:00        None   \n",
       "2    13  2021-01-22T10:02:34.390867+00:00        None   \n",
       "3    14  2021-01-22T10:02:34.390867+00:00        None   \n",
       "4    15  2021-01-22T10:02:34.390867+00:00        None   \n",
       "..  ...                               ...         ...   \n",
       "85   96  2021-01-22T10:02:34.390867+00:00        None   \n",
       "86   97  2021-01-22T10:02:34.390867+00:00        None   \n",
       "87   98  2021-01-22T10:02:34.390867+00:00        None   \n",
       "88   99  2021-01-22T10:02:34.390867+00:00        None   \n",
       "89  100  2021-01-22T10:02:34.390867+00:00        None   \n",
       "\n",
       "                                             geometry  raba_pid  raba_id  \\\n",
       "0   POLYGON ((460137.998 95628.898, 460111.001 956...   5983161     1100   \n",
       "1   POLYGON ((453673.609 91328.224, 453678.929 913...   5983074     1600   \n",
       "2   POLYGON ((460312.295 96127.114, 460300.319 961...   5983199     1600   \n",
       "3   POLYGON ((460459.445 96117.356, 460470.516 961...   5983217     1100   \n",
       "4   POLYGON ((457798.753 99628.982, 457783.076 996...   6299143     1600   \n",
       "..                                                ...       ...      ...   \n",
       "85  POLYGON ((458514.067 93026.352, 458513.306 930...   5960564     1600   \n",
       "86  POLYGON ((458259.239 93110.981, 458259.022 931...   5960569     3000   \n",
       "87  POLYGON ((458199.608 93099.296, 458199.825 930...   5960630     3000   \n",
       "88  POLYGON ((458189.403 93071.618, 458179.669 930...   5960648     1100   \n",
       "89  POLYGON ((454901.777 95801.099, 454889.964 958...   2353305     1321   \n",
       "\n",
       "          d_od  \n",
       "0   2019-03-11  \n",
       "1   2019-03-26  \n",
       "2   2019-03-11  \n",
       "3   2019-03-11  \n",
       "4   2019-03-04  \n",
       "..         ...  \n",
       "85  2019-01-11  \n",
       "86  2019-01-11  \n",
       "87  2019-01-11  \n",
       "88  2019-01-11  \n",
       "89  2019-01-05  \n",
       "\n",
       "[90 rows x 7 columns]"
      ]
     },
     "execution_count": 13,
     "metadata": {},
     "output_type": "execute_result"
    }
   ],
   "source": [
    "gdf = geodb.get_collection_by_bbox(collection=\"land_use\", bbox=(452750.0, 88909.549, 464000.0, 102486.299),\n",
    "                                   comparison_mode=\"contains\", bbox_crs=3794, limit=200, offset=10)\n",
    "gdf"
   ]
  },
  {
   "cell_type": "code",
   "execution_count": 14,
   "metadata": {},
   "outputs": [
    {
     "data": {
      "text/plain": [
       "<matplotlib.axes._subplots.AxesSubplot at 0x7f323b11b090>"
      ]
     },
     "execution_count": 14,
     "metadata": {},
     "output_type": "execute_result"
    },
    {
     "data": {
      "image/png": "[encoded data removed]",
      "text/plain": [
       "<Figure size 1080x1080 with 1 Axes>"
      ]
     },
     "metadata": {
      "needs_background": "light"
     },
     "output_type": "display_data"
    }
   ],
   "source": "gdf.plot(column=\"raba_pid\", figsize=(15, 15), cmap='jet')"
  },
  {
   "cell_type": "markdown",
   "metadata": {},
   "source": [
    "__Step 6__: Fltering using PostGres Syntax; see https://www.postgresql.org/docs/9.1/index.html for details"
   ]
  },
  {
   "cell_type": "code",
   "execution_count": 15,
   "metadata": {},
   "outputs": [
    {
     "data": {
      "text/html": [
       "<div>\n",
       "<style scoped>\n",
       "    .dataframe tbody tr th:only-of-type {\n",
       "        vertical-align: middle;\n",
       "    }\n",
       "\n",
       "    .dataframe tbody tr th {\n",
       "        vertical-align: top;\n",
       "    }\n",
       "\n",
       "    .dataframe thead th {\n",
       "        text-align: right;\n",
       "    }\n",
       "</style>\n",
       "<table border=\"1\" class=\"dataframe\">\n",
       "  <thead>\n",
       "    <tr style=\"text-align: right;\">\n",
       "      <th></th>\n",
       "      <th>id</th>\n",
       "      <th>created_at</th>\n",
       "      <th>modified_at</th>\n",
       "      <th>geometry</th>\n",
       "      <th>raba_pid</th>\n",
       "      <th>raba_id</th>\n",
       "      <th>d_od</th>\n",
       "    </tr>\n",
       "  </thead>\n",
       "  <tbody>\n",
       "    <tr>\n",
       "      <th>0</th>\n",
       "      <td>1</td>\n",
       "      <td>2021-01-22T10:02:34.390867+00:00</td>\n",
       "      <td>None</td>\n",
       "      <td>POLYGON ((453952.629 91124.177, 453952.696 911...</td>\n",
       "      <td>4770326</td>\n",
       "      <td>1410</td>\n",
       "      <td>2019-03-26</td>\n",
       "    </tr>\n",
       "    <tr>\n",
       "      <th>1</th>\n",
       "      <td>62</td>\n",
       "      <td>2021-01-22T10:02:34.390867+00:00</td>\n",
       "      <td>None</td>\n",
       "      <td>POLYGON ((457261.001 96349.254, 457256.831 963...</td>\n",
       "      <td>3596498</td>\n",
       "      <td>1410</td>\n",
       "      <td>2019-01-05</td>\n",
       "    </tr>\n",
       "    <tr>\n",
       "      <th>2</th>\n",
       "      <td>22</td>\n",
       "      <td>2021-01-22T10:02:34.390867+00:00</td>\n",
       "      <td>None</td>\n",
       "      <td>POLYGON ((455384.809 97907.054, 455380.659 979...</td>\n",
       "      <td>3616776</td>\n",
       "      <td>1410</td>\n",
       "      <td>2019-02-25</td>\n",
       "    </tr>\n",
       "    <tr>\n",
       "      <th>3</th>\n",
       "      <td>28</td>\n",
       "      <td>2021-01-22T10:02:34.390867+00:00</td>\n",
       "      <td>None</td>\n",
       "      <td>POLYGON ((462585.734 93088.987, 462567.020 930...</td>\n",
       "      <td>3826126</td>\n",
       "      <td>1410</td>\n",
       "      <td>2019-01-23</td>\n",
       "    </tr>\n",
       "    <tr>\n",
       "      <th>4</th>\n",
       "      <td>32</td>\n",
       "      <td>2021-01-22T10:02:34.390867+00:00</td>\n",
       "      <td>None</td>\n",
       "      <td>POLYGON ((457748.827 96167.354, 457748.394 961...</td>\n",
       "      <td>2309744</td>\n",
       "      <td>1410</td>\n",
       "      <td>2019-01-05</td>\n",
       "    </tr>\n",
       "  </tbody>\n",
       "</table>\n",
       "</div>"
      ],
      "text/plain": [
       "   id                        created_at modified_at  \\\n",
       "0   1  2021-01-22T10:02:34.390867+00:00        None   \n",
       "1  62  2021-01-22T10:02:34.390867+00:00        None   \n",
       "2  22  2021-01-22T10:02:34.390867+00:00        None   \n",
       "3  28  2021-01-22T10:02:34.390867+00:00        None   \n",
       "4  32  2021-01-22T10:02:34.390867+00:00        None   \n",
       "\n",
       "                                            geometry  raba_pid  raba_id  \\\n",
       "0  POLYGON ((453952.629 91124.177, 453952.696 911...   4770326     1410   \n",
       "1  POLYGON ((457261.001 96349.254, 457256.831 963...   3596498     1410   \n",
       "2  POLYGON ((455384.809 97907.054, 455380.659 979...   3616776     1410   \n",
       "3  POLYGON ((462585.734 93088.987, 462567.020 930...   3826126     1410   \n",
       "4  POLYGON ((457748.827 96167.354, 457748.394 961...   2309744     1410   \n",
       "\n",
       "         d_od  \n",
       "0  2019-03-26  \n",
       "1  2019-01-05  \n",
       "2  2019-02-25  \n",
       "3  2019-01-23  \n",
       "4  2019-01-05  "
      ]
     },
     "execution_count": 15,
     "metadata": {},
     "output_type": "execute_result"
    }
   ],
   "source": [
    "gdf = geodb.get_collection_pg(collection='land_use', where='raba_id=1410')\n",
    "gdf.head()"
   ]
  },
  {
   "cell_type": "code",
   "execution_count": 16,
   "metadata": {},
   "outputs": [
    {
     "data": {
      "text/plain": [
       "<matplotlib.axes._subplots.AxesSubplot at 0x7f323b13a9d0>"
      ]
     },
     "execution_count": 16,
     "metadata": {},
     "output_type": "execute_result"
    },
    {
     "data": {
      "image/png": "[encoded data removed]",
      "text/plain": [
       "<Figure size 1080x1080 with 1 Axes>"
      ]
     },
     "metadata": {
      "needs_background": "light"
     },
     "output_type": "display_data"
    }
   ],
   "source": "gdf.plot(column=\"raba_pid\", figsize=(15, 15), cmap='jet')"
  },
  {
   "cell_type": "markdown",
   "metadata": {},
   "source": [
    "__Step 7__: Fltering using PostGres Syntax Allowing Aggregation\n",
    "Here according to data, note that the data set has been reduced to 200 entries above"
   ]
  },
  {
   "cell_type": "code",
   "execution_count": 17,
   "metadata": {},
   "outputs": [
    {
     "data": {
      "text/html": [
       "<div>\n",
       "<style scoped>\n",
       "    .dataframe tbody tr th:only-of-type {\n",
       "        vertical-align: middle;\n",
       "    }\n",
       "\n",
       "    .dataframe tbody tr th {\n",
       "        vertical-align: top;\n",
       "    }\n",
       "\n",
       "    .dataframe thead th {\n",
       "        text-align: right;\n",
       "    }\n",
       "</style>\n",
       "<table border=\"1\" class=\"dataframe\">\n",
       "  <thead>\n",
       "    <tr style=\"text-align: right;\">\n",
       "      <th></th>\n",
       "      <th>ct</th>\n",
       "      <th>d_od</th>\n",
       "    </tr>\n",
       "  </thead>\n",
       "  <tbody>\n",
       "    <tr>\n",
       "      <th>0</th>\n",
       "      <td>1</td>\n",
       "      <td>2019-03-04</td>\n",
       "    </tr>\n",
       "    <tr>\n",
       "      <th>1</th>\n",
       "      <td>1</td>\n",
       "      <td>2019-03-20</td>\n",
       "    </tr>\n",
       "    <tr>\n",
       "      <th>2</th>\n",
       "      <td>1</td>\n",
       "      <td>2019-03-26</td>\n",
       "    </tr>\n",
       "    <tr>\n",
       "      <th>3</th>\n",
       "      <td>1</td>\n",
       "      <td>2019-04-01</td>\n",
       "    </tr>\n",
       "    <tr>\n",
       "      <th>4</th>\n",
       "      <td>1</td>\n",
       "      <td>2019-02-25</td>\n",
       "    </tr>\n",
       "  </tbody>\n",
       "</table>\n",
       "</div>"
      ],
      "text/plain": [
       "   ct        d_od\n",
       "0   1  2019-03-04\n",
       "1   1  2019-03-20\n",
       "2   1  2019-03-26\n",
       "3   1  2019-04-01\n",
       "4   1  2019-02-25"
      ]
     },
     "execution_count": 17,
     "metadata": {},
     "output_type": "execute_result"
    }
   ],
   "source": [
    "df = geodb.get_collection_pg('land_use', where='raba_id=1410', group='d_od', select='COUNT(d_od) as ct, d_od')\n",
    "df.head()"
   ]
  },
  {
   "cell_type": "code",
   "execution_count": 18,
   "metadata": {
    "collapsed": false,
    "jupyter": {
     "outputs_hidden": false
    },
    "pycharm": {
     "name": "#%%\n"
    }
   },
   "outputs": [
    {
     "data": {
      "text/plain": [
       "Collection ['geodb_ci_test_user_land_use'] deleted"
      ]
     },
     "execution_count": 18,
     "metadata": {},
     "output_type": "execute_result"
    }
   ],
   "source": [
    "geodb.drop_collection('land_use')"
   ]
  },
  {
   "cell_type": "code",
   "execution_count": null,
   "metadata": {},
   "outputs": [],
   "source": []
  },
  {
   "cell_type": "code",
   "execution_count": null,
   "metadata": {},
   "outputs": [],
   "source": []
  }
 ],
 "metadata": {
  "kernelspec": {
   "display_name": "Python 3 (ipykernel)",
   "language": "python",
   "name": "python3"
  },
  "language_info": {
   "codemirror_mode": {
    "name": "ipython",
    "version": 3
   },
   "file_extension": ".py",
   "mimetype": "text/x-python",
   "name": "python",
   "nbconvert_exporter": "python",
   "pygments_lexer": "ipython3",
   "version": "3.12.5"
  }
 },
 "nbformat": 4,
 "nbformat_minor": 4
}
