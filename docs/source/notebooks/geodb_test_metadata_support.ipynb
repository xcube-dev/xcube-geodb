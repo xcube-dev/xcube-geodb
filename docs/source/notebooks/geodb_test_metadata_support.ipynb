{
 "cells": [
  {
   "cell_type": "markdown",
   "metadata": {},
   "source": [
    "# Demonstration of setting and loading metadata\n",
    "\n",
    "This notebook demonstrates how [STAC](https://github.com/radiantearth/stac-spec/tree/master/collection-spec)-compliant metadata can stored in and retrieved from the geoDB."
   ]
  },
  {
   "cell_type": "code",
   "metadata": {},
   "source": [
    "from xcube_geodb.core.metadata import Link, Provider, Asset, ItemAsset\n",
    "from xcube_geodb.core.geodb import GeoDBClient\n",
    "import geopandas\n",
    "\n",
    "### uncomment if not in managed environment\n",
    "#client_id=YourID\n",
    "#client_secret=YourSecret\n",
    "#geodb = GeoDBClient(client_id=client_id, client_secret=client_secret, auth_mode=\"client-credentials\")\n",
    "\n",
    "geodb = GeoDBClient()"
   ],
   "outputs": [],
   "execution_count": null
  },
  {
   "metadata": {},
   "cell_type": "markdown",
   "source": "Prepare a collection which we use for setting and retrieving metadata:"
  },
  {
   "metadata": {},
   "cell_type": "code",
   "source": [
    "collection_name = \"metadata_test\"\n",
    "collections = {\n",
    "    collection_name:\n",
    "        {\n",
    "            \"crs\": 3794,\n",
    "            \"properties\":\n",
    "                {\n",
    "                    \"name\": \"text\",\n",
    "                    \"day\": \"date\"\n",
    "                }\n",
    "        }\n",
    "}\n",
    "\n",
    "geodb.create_collections(collections, clear=True)"
   ],
   "outputs": [],
   "execution_count": null
  },
  {
   "metadata": {},
   "cell_type": "markdown",
   "source": "In the following cells, set and retrieve different metadata properties:"
  },
  {
   "metadata": {},
   "cell_type": "code",
   "source": [
    "geodb.set_metadata_field(\"title\", \"my title\", collection_name)\n",
    "md = geodb.get_metadata(collection_name)\n",
    "print(md.title)\n",
    "geodb.set_metadata_field(\"title\", '\"my other title\"', collection_name)\n",
    "md = geodb.get_metadata(collection_name)\n",
    "print(md.title)"
   ],
   "outputs": [],
   "execution_count": null
  },
  {
   "metadata": {},
   "cell_type": "code",
   "source": [
    "geodb.set_metadata_field(\"description\", \"my description\", collection_name)\n",
    "md = geodb.get_metadata(collection_name)\n",
    "print(md.description)\n",
    "geodb.set_metadata_field(\"description\", 'my other description', collection_name)\n",
    "md = geodb.get_metadata(collection_name)\n",
    "print(md.description)"
   ],
   "outputs": [],
   "execution_count": null
  },
  {
   "metadata": {},
   "cell_type": "code",
   "source": [
    "geodb.set_metadata_field(\"license\", \"my license\", collection_name)\n",
    "md = geodb.get_metadata(collection_name)\n",
    "print(md.license)\n",
    "geodb.set_metadata_field(\"license\", 'just use it', collection_name)\n",
    "md = geodb.get_metadata(collection_name)\n",
    "print(md.license)"
   ],
   "outputs": [],
   "execution_count": null
  },
  {
   "metadata": {},
   "cell_type": "code",
   "source": [
    "geodb.set_metadata_field(\"links\", [Link.from_json({'href': 'https://link.bc', 'rel': 'parent'}),\n",
    "                                   Link.from_json({'href': 'https://link2.bc', 'rel': 'root'})], collection_name)\n",
    "md = geodb.get_metadata(collection_name)\n",
    "print(md.links)"
   ],
   "outputs": [],
   "execution_count": null
  },
  {
   "metadata": {},
   "cell_type": "code",
   "source": [
    "geodb.set_metadata_field(\"keywords\", ['crops', 'europe', 'rural'], collection_name)\n",
    "md = geodb.get_metadata(collection_name)\n",
    "print(md.keywords)"
   ],
   "outputs": [],
   "execution_count": null
  },
  {
   "metadata": {},
   "cell_type": "code",
   "source": [
    "geodb.set_metadata_field(\"stac_extensions\", ['https://stac-extensions.github.io/authentication/v1.1.0/schema.json'],\n",
    "                         collection_name)\n",
    "md = geodb.get_metadata(collection_name)\n",
    "print(md.stac_extensions)"
   ],
   "outputs": [],
   "execution_count": null
  },
  {
   "metadata": {},
   "cell_type": "code",
   "source": [
    "geodb.set_metadata_field(\"providers\", [Provider.from_json(\n",
    "    {'name': 'provider 1', 'description': 'some provider', 'roles': ['licensor', 'producer']})], collection_name)\n",
    "md = geodb.get_metadata(collection_name)\n",
    "print(md.providers)"
   ],
   "outputs": [],
   "execution_count": null
  },
  {
   "metadata": {},
   "cell_type": "code",
   "source": [
    "geodb.set_metadata_field(\"summaries\", {'columns': ['id', 'geometry'], 'x_range': {'min': '-170', 'max': '170'},\n",
    "                                       'y_range': {'min': '-80', 'max': '80'}, 'schema': 'some JSON schema'},\n",
    "                         collection_name)\n",
    "md = geodb.get_metadata(collection_name)\n",
    "print(md.summaries)"
   ],
   "outputs": [],
   "execution_count": null
  },
  {
   "metadata": {},
   "cell_type": "code",
   "source": [
    "geodb.set_metadata_field(\"assets\", [Asset.from_json(\n",
    "    {'href': 'https://asset.org', 'title': 'some title', 'roles': ['image', 'ql']}), Asset.from_json(\n",
    "    {'href': 'https://asset2.org', 'title': 'some other title', 'roles': ['image']})], collection_name)\n",
    "md = geodb.get_metadata(collection_name)\n",
    "print(md.assets)"
   ],
   "outputs": [],
   "execution_count": null
  },
  {
   "metadata": {},
   "cell_type": "code",
   "source": [
    "geodb.set_metadata_field(\"item_assets\", [ItemAsset.from_json({'href': 'https://asset.org', 'type': 'some type'})],\n",
    "                         collection_name)\n",
    "md = geodb.get_metadata(collection_name)\n",
    "print(md.item_assets)"
   ],
   "outputs": [],
   "execution_count": null
  },
  {
   "metadata": {},
   "cell_type": "code",
   "source": [
    "geodb.set_metadata_field(\"temporal_extent\",\n",
    "                         [['2018-01-01T00:00:00Z', None], ['2019-01-01T00:00:00Z', '2019-01-02T00:00:00Z']],\n",
    "                         collection_name)\n",
    "md = geodb.get_metadata(collection_name)\n",
    "print(md.temporal_extent)"
   ],
   "outputs": [],
   "execution_count": null
  },
  {
   "metadata": {},
   "cell_type": "markdown",
   "source": "Finally, show the complete metadata stored for the collection:"
  },
  {
   "metadata": {},
   "cell_type": "code",
   "source": [
    "md = geodb.get_metadata(\"collection_name\")\n",
    "print(f\"id: {md.id}\")\n",
    "print(f\"title: {md.title}\")\n",
    "print(f\"type: {md.type}\")\n",
    "print(f\"description: {md.description}\")\n",
    "print(f\"license: {md.license}\")\n",
    "print(f\"keywords: {md.keywords}\")\n",
    "print(f\"links: {md.links}\")\n",
    "print(f\"assets: {md.assets}\")\n",
    "print(f\"item_assets: {md.item_assets}\")\n",
    "print(f\"spatial_extent: {md.spatial_extent}\")\n",
    "print(f\"temporal_extent: {md.temporal_extent}\")\n",
    "print(f\"summaries: {md.summaries}\")\n",
    "print(f\"providers: {md.providers}\")\n",
    "print(f\"stac_extensions: {md.stac_extensions}\")\n",
    "print(f\"stac_version: {md.stac_version}\")"
   ],
   "outputs": [],
   "execution_count": null
  }
 ],
 "metadata": {
  "kernelspec": {
   "display_name": "Python 3 (ipykernel)",
   "language": "python",
   "name": "python3"
  },
  "language_info": {
   "codemirror_mode": {
    "name": "ipython",
    "version": 3
   },
   "file_extension": ".py",
   "mimetype": "text/x-python",
   "name": "python",
   "nbconvert_exporter": "python",
   "pygments_lexer": "ipython3",
   "version": "3.11.4"
  }
 },
 "nbformat": 4,
 "nbformat_minor": 4
}
