{
 "cells": [
  {
   "cell_type": "markdown",
   "source": [
    "# geoDB user groups\n",
    "\n",
    "You may define user groups in geoDB, which serve the purpose to allow sharing of collections between project members while not making them publicly available. This notebook will demonstrate how to work with groups."
   ],
   "metadata": {
    "collapsed": false
   },
   "id": "1dea9fb5bdee4fe6"
  },
  {
   "cell_type": "code",
   "execution_count": 1,
   "metadata": {},
   "outputs": [],
   "source": [
    "from xcube_geodb.core.geodb import GeoDBClient"
   ],
   "id": "9d2b675444ed2e38"
  },
  {
   "cell_type": "markdown",
   "metadata": {},
   "source": [
    "##  Login from any machine\n",
    "\n",
    "Install xcube geoDB with command:\n",
    "  \n",
    " `conda install xcube_geodb -c conda-forge`\n"
   ],
   "id": "affc3843cd86fa1f"
  },
  {
   "cell_type": "code",
   "execution_count": 20,
   "metadata": {},
   "outputs": [],
   "source": [
    "### uncomment if not in managed environment\n",
    "#client_id=YourID\n",
    "#client_secret=YourSecret\n",
    "#geodb = GeoDBClient(client_id=client_id, client_secret=client_secret, auth_mode=\"client-credentials\")"
   ],
   "id": "eaca0c6d04c03a2"
  },
  {
   "cell_type": "markdown",
   "metadata": {},
   "source": [
    "## Login in managed environment\n",
    "\n",
    "The environment is prepared with your user credentials, so you simply can start the client."
   ],
   "id": "f9c10ca052b8e71a"
  },
  {
   "cell_type": "code",
   "execution_count": null,
   "metadata": {},
   "outputs": [],
   "source": [
    "geodb = GeoDBClient()"
   ],
   "id": "5b67c479b30b4f21"
  },
  {
   "cell_type": "markdown",
   "source": [
    "## Show current user, and the list of groups it is currently member of"
   ],
   "metadata": {
    "collapsed": false
   },
   "id": "2cc13305b098d1db"
  },
  {
   "cell_type": "code",
   "execution_count": null,
   "outputs": [],
   "source": [
    "print(geodb.whoami)\n",
    "geodb.get_my_groups()"
   ],
   "metadata": {
    "collapsed": false
   },
   "id": "4f689fb0d9938cf1"
  },
  {
   "cell_type": "markdown",
   "source": [
    "## Create a new group, and checking before if it already exists (an error occurs if it does)"
   ],
   "metadata": {
    "collapsed": false
   },
   "id": "6537532b03761f6b"
  },
  {
   "cell_type": "code",
   "execution_count": null,
   "outputs": [],
   "source": [
    "group_name = 'test_group_' + geodb.whoami\n",
    "group_name = group_name[:63]  # ensure group_name will not be truncated in database\n",
    "if group_name not in geodb.get_my_groups():\n",
    "    geodb.create_group(group_name)\n"
   ],
   "metadata": {
    "collapsed": false
   },
   "id": "e898449268bfa2ae"
  },
  {
   "cell_type": "markdown",
   "source": [
    "## Add a user and see who's part of the group"
   ],
   "metadata": {
    "collapsed": false
   },
   "id": "7a8e91989e8cdb60"
  },
  {
   "cell_type": "code",
   "execution_count": null,
   "outputs": [],
   "source": [
    "geodb.add_user_to_group('geodb_thomas.storm.test', group_name)\n",
    "geodb.get_group_users(group_name)"
   ],
   "metadata": {
    "collapsed": false
   },
   "id": "b633432cf5489ae"
  },
  {
   "cell_type": "code",
   "execution_count": null,
   "outputs": [],
   "source": [
    "geodb.get_my_groups()"
   ],
   "metadata": {
    "collapsed": false
   },
   "id": "7240938827e92f64"
  },
  {
   "cell_type": "markdown",
   "source": [
    "## Create a small test collection to be shared with the group"
   ],
   "metadata": {
    "collapsed": false
   },
   "id": "5e9aae398b85bc34"
  },
  {
   "cell_type": "code",
   "execution_count": null,
   "outputs": [],
   "source": [
    "import geopandas\n",
    "\n",
    "properties = {\n",
    "    \"RABA_PID\": \"float\",\n",
    "    \"RABA_ID\": \"float\",\n",
    "    \"D_OD\": \"date\"\n",
    "}\n",
    "\n",
    "collection_name = 'land_use'\n",
    "geodb.create_collection(collection_name, properties, crs=3794, force=True)\n",
    "gdf = geopandas.read_file('data/sample/land_use.shp')\n",
    "m = geodb.insert_into_collection(collection_name, gdf.iloc[:100, :])\n",
    "str(m)"
   ],
   "metadata": {
    "collapsed": false
   },
   "id": "dfebff2c0c325baf"
  },
  {
   "cell_type": "markdown",
   "source": [
    "## Share new collection with group"
   ],
   "metadata": {
    "collapsed": false
   },
   "id": "4ec7198b62cbb75e"
  },
  {
   "cell_type": "code",
   "execution_count": null,
   "outputs": [],
   "source": [
    "m = geodb.publish_collection_to_group(collection_name, group_name)\n",
    "str(m)"
   ],
   "metadata": {
    "collapsed": false
   },
   "id": "e013169ae4ad14b4"
  },
  {
   "cell_type": "markdown",
   "source": [
    "## Show which users or groups have which rights on the collection"
   ],
   "metadata": {
    "collapsed": false
   },
   "id": "b85955d7e6bb2413"
  },
  {
   "cell_type": "code",
   "execution_count": null,
   "outputs": [],
   "source": [
    "geodb.get_access_rights(collection_name)"
   ],
   "metadata": {
    "collapsed": false
   },
   "id": "b67364bf245dbb51"
  },
  {
   "cell_type": "markdown",
   "source": [
    "## Unpublish collection again"
   ],
   "metadata": {
    "collapsed": false
   },
   "id": "5a84d7c4c4dda904"
  },
  {
   "cell_type": "code",
   "execution_count": null,
   "outputs": [],
   "source": [
    "m = geodb.unpublish_collection_from_group(collection_name, group_name)\n",
    "str(m)"
   ],
   "metadata": {
    "collapsed": false
   },
   "id": "c6df7bf2d74c2375"
  },
  {
   "cell_type": "markdown",
   "source": [
    "## Verify that groups does not have access to the collection anymore"
   ],
   "metadata": {
    "collapsed": false
   },
   "id": "5da3721e0bd52d09"
  },
  {
   "cell_type": "code",
   "execution_count": null,
   "outputs": [],
   "source": [
    "geodb.get_access_rights(collection_name)"
   ],
   "metadata": {
    "collapsed": false
   },
   "id": "1adde51e6bc83750"
  },
  {
   "cell_type": "markdown",
   "source": [
    "## Finally, do a clean-up of this notebook's leftovers"
   ],
   "metadata": {
    "collapsed": false
   },
   "id": "72009dcf155f31e7"
  },
  {
   "cell_type": "code",
   "execution_count": null,
   "id": "a88e4bb0",
   "metadata": {},
   "outputs": [],
   "source": [
    "geodb.drop_collection(\"land_use\")"
   ]
  }
 ],
 "metadata": {
  "kernelspec": {
   "display_name": "Python 3 (ipykernel)",
   "language": "python",
   "name": "python3"
  },
  "language_info": {
   "codemirror_mode": {
    "name": "ipython",
    "version": 3
   },
   "file_extension": ".py",
   "mimetype": "text/x-python",
   "name": "python",
   "nbconvert_exporter": "python",
   "pygments_lexer": "ipython3",
   "version": "3.9.12"
  }
 },
 "nbformat": 4,
 "nbformat_minor": 5
}
