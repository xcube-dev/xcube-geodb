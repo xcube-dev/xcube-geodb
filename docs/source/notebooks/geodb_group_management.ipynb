{
 "cells": [
  {
   "cell_type": "markdown",
   "source": [
    "# geoDB user groups\n",
    "\n",
    "You may define user groups in geoDB, which serve the purpose to allow sharing of collections between project members while not making them publicly available. This notebook will demonstrate how to work with groups."
   ],
   "metadata": {
    "collapsed": false
   },
   "id": "f07bb02d735a4147"
  },
  {
   "cell_type": "code",
   "execution_count": 1,
   "metadata": {},
   "outputs": [],
   "source": [
    "from xcube_geodb.core.geodb import GeoDBClient"
   ],
   "id": "8adda0511e4e5a0f"
  },
  {
   "cell_type": "markdown",
   "metadata": {},
   "source": [
    "##  Login from any machine\n",
    "\n",
    "Install xcube geoDB with command:\n",
    "  \n",
    " `conda install xcube_geodb -c conda-forge`\n"
   ],
   "id": "ef34c488b37a66b7"
  },
  {
   "cell_type": "code",
   "execution_count": 20,
   "metadata": {},
   "outputs": [],
   "source": [
    "### uncomment if not in managed environment\n",
    "#client_id=YourID\n",
    "#client_secret=YourSecret\n",
    "#geodb = GeoDBClient(client_id=client_id, client_secret=client_secret, auth_mode=\"client-credentials\")\n",
    "\n",
    "# remove the following two lines when merging into main!\n",
    "import os\n",
    "\n",
    "os.environ[\"GEODB_API_SERVER_URL\"] = \"https://xcube-geodb.dev.brockmann-consult.de\""
   ],
   "id": "24296631768a10f"
  },
  {
   "cell_type": "markdown",
   "metadata": {},
   "source": [
    "## Login in managed environment\n",
    "\n",
    "The environment is prepared with your user credentials, so you simply can start the client."
   ],
   "id": "d73abec67797472b"
  },
  {
   "cell_type": "code",
   "execution_count": null,
   "metadata": {},
   "outputs": [],
   "source": [
    "geodb = GeoDBClient()"
   ],
   "id": "aeb0561413648ad5"
  },
  {
   "cell_type": "markdown",
   "source": [
    "## Show current user, and the list of groups it is currently member of"
   ],
   "metadata": {
    "collapsed": false
   },
   "id": "110f832b5257630c"
  },
  {
   "cell_type": "code",
   "execution_count": null,
   "outputs": [],
   "source": [
    "print(geodb.whoami)\n",
    "geodb.get_my_groups()"
   ],
   "metadata": {
    "collapsed": false
   },
   "id": "8b099d7d0ddf023b"
  },
  {
   "cell_type": "markdown",
   "source": [
    "## Create a new group, and checking before if it already exists (an error occurs if it does)"
   ],
   "metadata": {
    "collapsed": false
   },
   "id": "faf2e7ea411be60c"
  },
  {
   "cell_type": "code",
   "execution_count": null,
   "outputs": [],
   "source": [
    "group_name = 'test_group_' + geodb.whoami\n",
    "group_name = group_name[:63]  # ensure group_name will not be truncated in database\n",
    "if group_name not in geodb.get_my_groups():\n",
    "    geodb.create_group(group_name)\n"
   ],
   "metadata": {
    "collapsed": false
   },
   "id": "22854a5d4b7b1245"
  },
  {
   "cell_type": "markdown",
   "source": [
    "## Add a user and see who's part of the group"
   ],
   "metadata": {
    "collapsed": false
   },
   "id": "9918289ed3db22ba"
  },
  {
   "cell_type": "code",
   "execution_count": null,
   "outputs": [],
   "source": [
    "geodb.add_user_to_group('geodb_thomas.storm.test', group_name)\n",
    "geodb.get_group_users(group_name)"
   ],
   "metadata": {
    "collapsed": false
   },
   "id": "c07dc584e05340e3"
  },
  {
   "cell_type": "code",
   "execution_count": null,
   "outputs": [],
   "source": [
    "geodb.get_my_groups()"
   ],
   "metadata": {
    "collapsed": false
   },
   "id": "5de6077a2bc913be"
  },
  {
   "cell_type": "markdown",
   "source": [
    "## Create a small test collection to be shared with the group"
   ],
   "metadata": {
    "collapsed": false
   },
   "id": "1e3c64e2b4b9d5e5"
  },
  {
   "cell_type": "code",
   "execution_count": null,
   "outputs": [],
   "source": [
    "import geopandas\n",
    "\n",
    "properties = {\n",
    "    \"RABA_PID\": \"float\",\n",
    "    \"RABA_ID\": \"float\",\n",
    "    \"D_OD\": \"date\"\n",
    "}\n",
    "\n",
    "collection_name = 'land_use'\n",
    "geodb.create_collection(collection_name, properties, crs=3794, clear=True)\n",
    "gdf = geopandas.read_file('data/sample/land_use.shp')\n",
    "m = geodb.insert_into_collection(collection_name, gdf.iloc[:100, :])\n",
    "str(m)"
   ],
   "metadata": {
    "collapsed": false
   },
   "id": "c744aa60db0c1c41"
  },
  {
   "cell_type": "markdown",
   "source": [
    "## Share new collection with group"
   ],
   "metadata": {
    "collapsed": false
   },
   "id": "86836deb160cf925"
  },
  {
   "cell_type": "code",
   "execution_count": null,
   "outputs": [],
   "source": [
    "m = geodb.publish_collection_to_group(collection_name, group_name)\n",
    "str(m)"
   ],
   "metadata": {
    "collapsed": false
   },
   "id": "eea0feb76233c37e"
  },
  {
   "cell_type": "markdown",
   "source": [
    "## Show which users or groups have which rights on the collection"
   ],
   "metadata": {
    "collapsed": false
   },
   "id": "6d3c03450d28d58a"
  },
  {
   "cell_type": "code",
   "execution_count": null,
   "outputs": [],
   "source": [
    "geodb.get_access_rights(collection_name)"
   ],
   "metadata": {
    "collapsed": false
   },
   "id": "6cd83a09fdea06b"
  },
  {
   "cell_type": "markdown",
   "source": [
    "## Unpublish collection again"
   ],
   "metadata": {
    "collapsed": false
   },
   "id": "20d26ec6134d08bf"
  },
  {
   "cell_type": "code",
   "execution_count": null,
   "outputs": [],
   "source": [
    "m = geodb.unpublish_collection_from_group(collection_name, group_name)\n",
    "str(m)"
   ],
   "metadata": {
    "collapsed": false
   },
   "id": "51663958edd559c8"
  },
  {
   "cell_type": "markdown",
   "source": [
    "## Verify that groups does not have access to the collection anymore"
   ],
   "metadata": {
    "collapsed": false
   },
   "id": "5a0538d90294ec78"
  },
  {
   "cell_type": "code",
   "execution_count": null,
   "outputs": [],
   "source": [
    "geodb.get_access_rights(collection_name)"
   ],
   "metadata": {
    "collapsed": false
   },
   "id": "ddfc68b4ac0c8b96"
  },
  {
   "cell_type": "markdown",
   "source": [
    "## Finally, do a clean-up of this notebook's leftovers"
   ],
   "metadata": {
    "collapsed": false
   },
   "id": "d68baa5efcdc901f"
  },
  {
   "cell_type": "code",
   "execution_count": null,
   "id": "a88e4bb0",
   "metadata": {},
   "outputs": [],
   "source": [
    "geodb.drop_collection(\"land_use\")"
   ]
  }
 ],
 "metadata": {
  "kernelspec": {
   "display_name": "Python 3 (ipykernel)",
   "language": "python",
   "name": "python3"
  },
  "language_info": {
   "codemirror_mode": {
    "name": "ipython",
    "version": 3
   },
   "file_extension": ".py",
   "mimetype": "text/x-python",
   "name": "python",
   "nbconvert_exporter": "python",
   "pygments_lexer": "ipython3",
   "version": "3.9.12"
  }
 },
 "nbformat": 4,
 "nbformat_minor": 5
}
