{
 "cells": [
  {
   "cell_type": "markdown",
   "metadata": {},
   "source": [
    "# Manage collections\n",
    "\n",
    "This notebook demonstrates how to create, update, and extend data collections in the xcube geoDB."
   ]
  },
  {
   "cell_type": "code",
   "execution_count": 1,
   "metadata": {},
   "outputs": [],
   "source": [
    "from xcube_geodb.core.geodb import GeoDBClient"
   ]
  },
  {
   "cell_type": "markdown",
   "metadata": {},
   "source": [
    "##  Login from any machine\n",
    "\n",
    "Install xcube geoDB with command:\n",
    "  \n",
    " `conda install xcube_geodb -c conda-forge`\n"
   ]
  },
  {
   "cell_type": "code",
   "execution_count": 20,
   "metadata": {},
   "outputs": [],
   "source": [
    "### uncomment if not in managed environment\n",
    "#client_id=YourID\n",
    "#client_secret=YourSecret\n",
    "#geodb = GeoDBClient(client_id=client_id, client_secret=client_secret, auth_mode=\"client-credentials\")"
   ]
  },
  {
   "cell_type": "markdown",
   "metadata": {},
   "source": [
    "## Login in managed environment\n",
    "\n",
    "The environment is prepared with your user credentials, so you simply can start the client."
   ]
  },
  {
   "cell_type": "code",
   "execution_count": null,
   "metadata": {},
   "outputs": [],
   "source": [
    "geodb = GeoDBClient()"
   ]
  },
  {
   "cell_type": "markdown",
   "metadata": {},
   "source": [
    "## Get your user name"
   ]
  },
  {
   "cell_type": "code",
   "execution_count": 5,
   "metadata": {},
   "outputs": [
    {
     "data": {
      "text/plain": [
       "'geodb_ci_test_user'"
      ]
     },
     "execution_count": 5,
     "metadata": {},
     "output_type": "execute_result"
    }
   ],
   "source": [
    "geodb.whoami"
   ]
  },
  {
   "cell_type": "code",
   "execution_count": 6,
   "metadata": {},
   "outputs": [
    {
     "data": {
      "text/html": [
       "<div>\n",
       "<style scoped>\n",
       "    .dataframe tbody tr th:only-of-type {\n",
       "        vertical-align: middle;\n",
       "    }\n",
       "\n",
       "    .dataframe tbody tr th {\n",
       "        vertical-align: top;\n",
       "    }\n",
       "\n",
       "    .dataframe thead th {\n",
       "        text-align: right;\n",
       "    }\n",
       "</style>\n",
       "<table border=\"1\" class=\"dataframe\">\n",
       "  <thead>\n",
       "    <tr style=\"text-align: right;\">\n",
       "      <th></th>\n",
       "      <th>owner</th>\n",
       "      <th>database</th>\n",
       "      <th>table_name</th>\n",
       "    </tr>\n",
       "  </thead>\n",
       "  <tbody>\n",
       "    <tr>\n",
       "      <th>0</th>\n",
       "      <td>geodb_9bfgsdfg-453f-445b-a459</td>\n",
       "      <td>geodb_9bfgsdfg-453f-445b-a459</td>\n",
       "      <td>land_use</td>\n",
       "    </tr>\n",
       "    <tr>\n",
       "      <th>1</th>\n",
       "      <td>tt</td>\n",
       "      <td>tt</td>\n",
       "      <td>tt300</td>\n",
       "    </tr>\n",
       "  </tbody>\n",
       "</table>\n",
       "</div>"
      ],
      "text/plain": [
       "                           owner                       database table_name\n",
       "0  geodb_9bfgsdfg-453f-445b-a459  geodb_9bfgsdfg-453f-445b-a459   land_use\n",
       "1                             tt                             tt      tt300"
      ]
     },
     "execution_count": 6,
     "metadata": {},
     "output_type": "execute_result"
    }
   ],
   "source": [
    "# Lets get already existing collections\n",
    "ds = geodb.get_my_collections()\n",
    "ds\n"
   ]
  },
  {
   "cell_type": "markdown",
   "metadata": {},
   "source": [
    "## Creating collections\n",
    "\n",
    "Once the connection has been established you will be able to create a collection. The collection will contain standard properties (fields) plus custom properties\n",
    "which you can add at your discretion. Please use [PostGreSQL type definitions](https://www.postgresql.org/docs/11/datatype.html). We recommend stying simple with\n",
    "your data types as we have not tested every single type."
   ]
  },
  {
   "cell_type": "code",
   "execution_count": 7,
   "metadata": {},
   "outputs": [
    {
     "data": {
      "text/plain": [
       "{'collections': {'geodb_ci_test_user_land_use': {'crs': 3794,\n",
       "                                                 'properties': {'D_OD': 'date',\n",
       "                                                                'RABA_ID': 'float',\n",
       "                                                                'RABA_PID': 'float'}}}}"
      ]
     },
     "execution_count": 7,
     "metadata": {},
     "output_type": "execute_result"
    }
   ],
   "source": [
    "# Have a look at fiona feature schema\n",
    "collections = {\n",
    "        \"land_use\":\n",
    "        {\n",
    "            \"crs\": 3794,\n",
    "            \"properties\":\n",
    "            {\n",
    "                \"RABA_PID\": \"float\",\n",
    "                \"RABA_ID\": \"float\",\n",
    "                \"D_OD\": \"date\"\n",
    "            }\n",
    "        }\n",
    "    }\n",
    "\n",
    "\n",
    "geodb.create_collections(collections, clear=True)"
   ]
  },
  {
   "cell_type": "markdown",
   "metadata": {},
   "source": [
    "## Loading data into a dataset\n",
    "\n",
    "Once the table has been created, you can load data into the dataset. The example below loads a shapefile. The attributes of the shapefile correspond to the dataset's properties.\n"
   ]
  },
  {
   "cell_type": "code",
   "execution_count": 7,
   "metadata": {},
   "outputs": [
    {
     "data": {
      "text/html": [
       "<div>\n",
       "<style scoped>\n",
       "    .dataframe tbody tr th:only-of-type {\n",
       "        vertical-align: middle;\n",
       "    }\n",
       "\n",
       "    .dataframe tbody tr th {\n",
       "        vertical-align: top;\n",
       "    }\n",
       "\n",
       "    .dataframe thead th {\n",
       "        text-align: right;\n",
       "    }\n",
       "</style>\n",
       "<table border=\"1\" class=\"dataframe\">\n",
       "  <thead>\n",
       "    <tr style=\"text-align: right;\">\n",
       "      <th></th>\n",
       "      <th>RABA_PID</th>\n",
       "      <th>RABA_ID</th>\n",
       "      <th>D_OD</th>\n",
       "      <th>geometry</th>\n",
       "    </tr>\n",
       "  </thead>\n",
       "  <tbody>\n",
       "    <tr>\n",
       "      <th>0</th>\n",
       "      <td>4770326.0</td>\n",
       "      <td>1410</td>\n",
       "      <td>2019-03-26</td>\n",
       "      <td>POLYGON ((453952.629 91124.177, 453952.696 911...</td>\n",
       "    </tr>\n",
       "    <tr>\n",
       "      <th>1</th>\n",
       "      <td>4770325.0</td>\n",
       "      <td>1300</td>\n",
       "      <td>2019-03-26</td>\n",
       "      <td>POLYGON ((453810.376 91150.199, 453812.552 911...</td>\n",
       "    </tr>\n",
       "    <tr>\n",
       "      <th>2</th>\n",
       "      <td>2305689.0</td>\n",
       "      <td>7000</td>\n",
       "      <td>2019-02-25</td>\n",
       "      <td>POLYGON ((456099.635 97696.070, 456112.810 976...</td>\n",
       "    </tr>\n",
       "    <tr>\n",
       "      <th>3</th>\n",
       "      <td>2305596.0</td>\n",
       "      <td>1100</td>\n",
       "      <td>2019-02-25</td>\n",
       "      <td>POLYGON ((455929.405 97963.785, 455933.284 979...</td>\n",
       "    </tr>\n",
       "    <tr>\n",
       "      <th>4</th>\n",
       "      <td>2310160.0</td>\n",
       "      <td>1100</td>\n",
       "      <td>2019-03-11</td>\n",
       "      <td>POLYGON ((461561.512 96119.256, 461632.114 960...</td>\n",
       "    </tr>\n",
       "    <tr>\n",
       "      <th>...</th>\n",
       "      <td>...</td>\n",
       "      <td>...</td>\n",
       "      <td>...</td>\n",
       "      <td>...</td>\n",
       "    </tr>\n",
       "    <tr>\n",
       "      <th>9822</th>\n",
       "      <td>6253989.0</td>\n",
       "      <td>1600</td>\n",
       "      <td>2019-03-08</td>\n",
       "      <td>POLYGON ((460637.334 96865.891, 460647.927 969...</td>\n",
       "    </tr>\n",
       "    <tr>\n",
       "      <th>9823</th>\n",
       "      <td>6252044.0</td>\n",
       "      <td>1600</td>\n",
       "      <td>2019-03-26</td>\n",
       "      <td>POLYGON ((459467.868 96839.686, 459467.770 968...</td>\n",
       "    </tr>\n",
       "    <tr>\n",
       "      <th>9824</th>\n",
       "      <td>6245985.0</td>\n",
       "      <td>2000</td>\n",
       "      <td>2019-04-08</td>\n",
       "      <td>POLYGON ((459488.998 94066.248, 459498.145 940...</td>\n",
       "    </tr>\n",
       "    <tr>\n",
       "      <th>9825</th>\n",
       "      <td>6245986.0</td>\n",
       "      <td>2000</td>\n",
       "      <td>2019-02-20</td>\n",
       "      <td>POLYGON ((459676.680 94000.000, 459672.469 939...</td>\n",
       "    </tr>\n",
       "    <tr>\n",
       "      <th>9826</th>\n",
       "      <td>6245987.0</td>\n",
       "      <td>2000</td>\n",
       "      <td>2019-03-11</td>\n",
       "      <td>POLYGON ((459690.580 94042.607, 459686.872 940...</td>\n",
       "    </tr>\n",
       "  </tbody>\n",
       "</table>\n",
       "<p>9827 rows × 4 columns</p>\n",
       "</div>"
      ],
      "text/plain": [
       "       RABA_PID  RABA_ID        D_OD  \\\n",
       "0     4770326.0     1410  2019-03-26   \n",
       "1     4770325.0     1300  2019-03-26   \n",
       "2     2305689.0     7000  2019-02-25   \n",
       "3     2305596.0     1100  2019-02-25   \n",
       "4     2310160.0     1100  2019-03-11   \n",
       "...         ...      ...         ...   \n",
       "9822  6253989.0     1600  2019-03-08   \n",
       "9823  6252044.0     1600  2019-03-26   \n",
       "9824  6245985.0     2000  2019-04-08   \n",
       "9825  6245986.0     2000  2019-02-20   \n",
       "9826  6245987.0     2000  2019-03-11   \n",
       "\n",
       "                                               geometry  \n",
       "0     POLYGON ((453952.629 91124.177, 453952.696 911...  \n",
       "1     POLYGON ((453810.376 91150.199, 453812.552 911...  \n",
       "2     POLYGON ((456099.635 97696.070, 456112.810 976...  \n",
       "3     POLYGON ((455929.405 97963.785, 455933.284 979...  \n",
       "4     POLYGON ((461561.512 96119.256, 461632.114 960...  \n",
       "...                                                 ...  \n",
       "9822  POLYGON ((460637.334 96865.891, 460647.927 969...  \n",
       "9823  POLYGON ((459467.868 96839.686, 459467.770 968...  \n",
       "9824  POLYGON ((459488.998 94066.248, 459498.145 940...  \n",
       "9825  POLYGON ((459676.680 94000.000, 459672.469 939...  \n",
       "9826  POLYGON ((459690.580 94042.607, 459686.872 940...  \n",
       "\n",
       "[9827 rows x 4 columns]"
      ]
     },
     "execution_count": 7,
     "metadata": {},
     "output_type": "execute_result"
    }
   ],
   "source": [
    "import geopandas\n",
    "gdf = geopandas.read_file('data/sample/land_use.shp')\n",
    "gdf"
   ]
  },
  {
   "cell_type": "code",
   "execution_count": 8,
   "metadata": {},
   "outputs": [
    {
     "data": {
      "text/plain": [
       "Data inserted into land_use"
      ]
     },
     "execution_count": 8,
     "metadata": {},
     "output_type": "execute_result"
    }
   ],
   "source": [
    "geodb.insert_into_collection('land_use', gdf.iloc[:100,:]) # minimizing rows to 100, if you are in EDC, you dont need to make the subset."
   ]
  },
  {
   "cell_type": "code",
   "execution_count": 10,
   "metadata": {},
   "outputs": [
    {
     "data": {
      "text/html": [
       "<div>\n",
       "<style scoped>\n",
       "    .dataframe tbody tr th:only-of-type {\n",
       "        vertical-align: middle;\n",
       "    }\n",
       "\n",
       "    .dataframe tbody tr th {\n",
       "        vertical-align: top;\n",
       "    }\n",
       "\n",
       "    .dataframe thead th {\n",
       "        text-align: right;\n",
       "    }\n",
       "</style>\n",
       "<table border=\"1\" class=\"dataframe\">\n",
       "  <thead>\n",
       "    <tr style=\"text-align: right;\">\n",
       "      <th></th>\n",
       "      <th>id</th>\n",
       "      <th>created_at</th>\n",
       "      <th>modified_at</th>\n",
       "      <th>geometry</th>\n",
       "      <th>raba_pid</th>\n",
       "      <th>raba_id</th>\n",
       "      <th>d_od</th>\n",
       "    </tr>\n",
       "  </thead>\n",
       "  <tbody>\n",
       "    <tr>\n",
       "      <th>0</th>\n",
       "      <td>3</td>\n",
       "      <td>2021-01-22T10:13:54.418035+00:00</td>\n",
       "      <td>None</td>\n",
       "      <td>POLYGON ((456099.635 97696.070, 456112.810 976...</td>\n",
       "      <td>2305689</td>\n",
       "      <td>7000</td>\n",
       "      <td>2019-02-25</td>\n",
       "    </tr>\n",
       "    <tr>\n",
       "      <th>1</th>\n",
       "      <td>26</td>\n",
       "      <td>2021-01-22T10:13:54.418035+00:00</td>\n",
       "      <td>None</td>\n",
       "      <td>POLYGON ((459898.930 100306.841, 459906.288 10...</td>\n",
       "      <td>2301992</td>\n",
       "      <td>7000</td>\n",
       "      <td>2019-04-06</td>\n",
       "    </tr>\n",
       "    <tr>\n",
       "      <th>2</th>\n",
       "      <td>95</td>\n",
       "      <td>2021-01-22T10:13:54.418035+00:00</td>\n",
       "      <td>None</td>\n",
       "      <td>POLYGON ((459591.248 92619.056, 459592.745 926...</td>\n",
       "      <td>2333229</td>\n",
       "      <td>7000</td>\n",
       "      <td>2019-02-20</td>\n",
       "    </tr>\n",
       "  </tbody>\n",
       "</table>\n",
       "</div>"
      ],
      "text/plain": [
       "   id                        created_at modified_at  \\\n",
       "0   3  2021-01-22T10:13:54.418035+00:00        None   \n",
       "1  26  2021-01-22T10:13:54.418035+00:00        None   \n",
       "2  95  2021-01-22T10:13:54.418035+00:00        None   \n",
       "\n",
       "                                            geometry  raba_pid  raba_id  \\\n",
       "0  POLYGON ((456099.635 97696.070, 456112.810 976...   2305689     7000   \n",
       "1  POLYGON ((459898.930 100306.841, 459906.288 10...   2301992     7000   \n",
       "2  POLYGON ((459591.248 92619.056, 459592.745 926...   2333229     7000   \n",
       "\n",
       "         d_od  \n",
       "0  2019-02-25  \n",
       "1  2019-04-06  \n",
       "2  2019-02-20  "
      ]
     },
     "execution_count": 10,
     "metadata": {},
     "output_type": "execute_result"
    }
   ],
   "source": [
    "geodb.get_collection('land_use', query=\"raba_id=eq.7000\")"
   ]
  },
  {
   "cell_type": "markdown",
   "metadata": {},
   "source": [
    "### Delete from a Collection"
   ]
  },
  {
   "cell_type": "code",
   "execution_count": 11,
   "metadata": {},
   "outputs": [
    {
     "data": {
      "text/plain": [
       "Data from land_use deleted"
      ]
     },
     "execution_count": 11,
     "metadata": {},
     "output_type": "execute_result"
    }
   ],
   "source": [
    "geodb.delete_from_collection('land_use', query=\"raba_id=eq.7000\")"
   ]
  },
  {
   "cell_type": "code",
   "execution_count": 12,
   "metadata": {},
   "outputs": [
    {
     "data": {
      "text/html": [
       "<div>\n",
       "<style scoped>\n",
       "    .dataframe tbody tr th:only-of-type {\n",
       "        vertical-align: middle;\n",
       "    }\n",
       "\n",
       "    .dataframe tbody tr th {\n",
       "        vertical-align: top;\n",
       "    }\n",
       "\n",
       "    .dataframe thead th {\n",
       "        text-align: right;\n",
       "    }\n",
       "</style>\n",
       "<table border=\"1\" class=\"dataframe\">\n",
       "  <thead>\n",
       "    <tr style=\"text-align: right;\">\n",
       "      <th></th>\n",
       "      <th>Empty Result</th>\n",
       "    </tr>\n",
       "  </thead>\n",
       "  <tbody>\n",
       "  </tbody>\n",
       "</table>\n",
       "</div>"
      ],
      "text/plain": [
       "Empty DataFrame\n",
       "Columns: [Empty Result]\n",
       "Index: []"
      ]
     },
     "execution_count": 12,
     "metadata": {},
     "output_type": "execute_result"
    }
   ],
   "source": [
    "geodb.get_collection('land_use', query=\"raba_id=eq.7000\")"
   ]
  },
  {
   "cell_type": "markdown",
   "metadata": {},
   "source": [
    "## Updating a Collection"
   ]
  },
  {
   "cell_type": "code",
   "execution_count": 13,
   "metadata": {},
   "outputs": [
    {
     "data": {
      "text/html": [
       "<div>\n",
       "<style scoped>\n",
       "    .dataframe tbody tr th:only-of-type {\n",
       "        vertical-align: middle;\n",
       "    }\n",
       "\n",
       "    .dataframe tbody tr th {\n",
       "        vertical-align: top;\n",
       "    }\n",
       "\n",
       "    .dataframe thead th {\n",
       "        text-align: right;\n",
       "    }\n",
       "</style>\n",
       "<table border=\"1\" class=\"dataframe\">\n",
       "  <thead>\n",
       "    <tr style=\"text-align: right;\">\n",
       "      <th></th>\n",
       "      <th>id</th>\n",
       "      <th>created_at</th>\n",
       "      <th>modified_at</th>\n",
       "      <th>geometry</th>\n",
       "      <th>raba_pid</th>\n",
       "      <th>raba_id</th>\n",
       "      <th>d_od</th>\n",
       "    </tr>\n",
       "  </thead>\n",
       "  <tbody>\n",
       "    <tr>\n",
       "      <th>0</th>\n",
       "      <td>2</td>\n",
       "      <td>2021-01-22T10:13:54.418035+00:00</td>\n",
       "      <td>None</td>\n",
       "      <td>POLYGON ((453810.376 91150.199, 453812.552 911...</td>\n",
       "      <td>4770325</td>\n",
       "      <td>1300</td>\n",
       "      <td>2019-03-26</td>\n",
       "    </tr>\n",
       "    <tr>\n",
       "      <th>1</th>\n",
       "      <td>10</td>\n",
       "      <td>2021-01-22T10:13:54.418035+00:00</td>\n",
       "      <td>None</td>\n",
       "      <td>POLYGON ((456547.427 91543.640, 456544.255 915...</td>\n",
       "      <td>2318555</td>\n",
       "      <td>1300</td>\n",
       "      <td>2019-03-14</td>\n",
       "    </tr>\n",
       "    <tr>\n",
       "      <th>2</th>\n",
       "      <td>63</td>\n",
       "      <td>2021-01-22T10:13:54.418035+00:00</td>\n",
       "      <td>None</td>\n",
       "      <td>POLYGON ((456201.531 98685.274, 456199.109 986...</td>\n",
       "      <td>2304287</td>\n",
       "      <td>1300</td>\n",
       "      <td>2019-02-25</td>\n",
       "    </tr>\n",
       "    <tr>\n",
       "      <th>3</th>\n",
       "      <td>86</td>\n",
       "      <td>2021-01-22T10:13:54.418035+00:00</td>\n",
       "      <td>None</td>\n",
       "      <td>POLYGON ((454709.766 97354.278, 454704.878 973...</td>\n",
       "      <td>2331038</td>\n",
       "      <td>1300</td>\n",
       "      <td>2019-01-05</td>\n",
       "    </tr>\n",
       "    <tr>\n",
       "      <th>4</th>\n",
       "      <td>87</td>\n",
       "      <td>2021-01-22T10:13:54.418035+00:00</td>\n",
       "      <td>None</td>\n",
       "      <td>POLYGON ((453820.737 98574.017, 453816.740 985...</td>\n",
       "      <td>2357574</td>\n",
       "      <td>1300</td>\n",
       "      <td>2019-01-16</td>\n",
       "    </tr>\n",
       "    <tr>\n",
       "      <th>5</th>\n",
       "      <td>92</td>\n",
       "      <td>2021-01-22T10:13:54.418035+00:00</td>\n",
       "      <td>None</td>\n",
       "      <td>POLYGON ((461723.552 99635.913, 461729.649 996...</td>\n",
       "      <td>2332405</td>\n",
       "      <td>1300</td>\n",
       "      <td>2019-03-27</td>\n",
       "    </tr>\n",
       "  </tbody>\n",
       "</table>\n",
       "</div>"
      ],
      "text/plain": [
       "   id                        created_at modified_at  \\\n",
       "0   2  2021-01-22T10:13:54.418035+00:00        None   \n",
       "1  10  2021-01-22T10:13:54.418035+00:00        None   \n",
       "2  63  2021-01-22T10:13:54.418035+00:00        None   \n",
       "3  86  2021-01-22T10:13:54.418035+00:00        None   \n",
       "4  87  2021-01-22T10:13:54.418035+00:00        None   \n",
       "5  92  2021-01-22T10:13:54.418035+00:00        None   \n",
       "\n",
       "                                            geometry  raba_pid  raba_id  \\\n",
       "0  POLYGON ((453810.376 91150.199, 453812.552 911...   4770325     1300   \n",
       "1  POLYGON ((456547.427 91543.640, 456544.255 915...   2318555     1300   \n",
       "2  POLYGON ((456201.531 98685.274, 456199.109 986...   2304287     1300   \n",
       "3  POLYGON ((454709.766 97354.278, 454704.878 973...   2331038     1300   \n",
       "4  POLYGON ((453820.737 98574.017, 453816.740 985...   2357574     1300   \n",
       "5  POLYGON ((461723.552 99635.913, 461729.649 996...   2332405     1300   \n",
       "\n",
       "         d_od  \n",
       "0  2019-03-26  \n",
       "1  2019-03-14  \n",
       "2  2019-02-25  \n",
       "3  2019-01-05  \n",
       "4  2019-01-16  \n",
       "5  2019-03-27  "
      ]
     },
     "execution_count": 13,
     "metadata": {},
     "output_type": "execute_result"
    }
   ],
   "source": [
    "geodb.get_collection('land_use', query=\"raba_id=eq.1300\")"
   ]
  },
  {
   "cell_type": "code",
   "execution_count": 14,
   "metadata": {},
   "outputs": [
    {
     "data": {
      "text/plain": [
       "land_use updated"
      ]
     },
     "execution_count": 14,
     "metadata": {},
     "output_type": "execute_result"
    }
   ],
   "source": [
    "geodb.update_collection('land_use', query=\"raba_id=eq.1300\", values={'d_od': '2000-01-01'})"
   ]
  },
  {
   "cell_type": "code",
   "execution_count": 15,
   "metadata": {},
   "outputs": [
    {
     "data": {
      "text/html": [
       "<div>\n",
       "<style scoped>\n",
       "    .dataframe tbody tr th:only-of-type {\n",
       "        vertical-align: middle;\n",
       "    }\n",
       "\n",
       "    .dataframe tbody tr th {\n",
       "        vertical-align: top;\n",
       "    }\n",
       "\n",
       "    .dataframe thead th {\n",
       "        text-align: right;\n",
       "    }\n",
       "</style>\n",
       "<table border=\"1\" class=\"dataframe\">\n",
       "  <thead>\n",
       "    <tr style=\"text-align: right;\">\n",
       "      <th></th>\n",
       "      <th>id</th>\n",
       "      <th>created_at</th>\n",
       "      <th>modified_at</th>\n",
       "      <th>geometry</th>\n",
       "      <th>raba_pid</th>\n",
       "      <th>raba_id</th>\n",
       "      <th>d_od</th>\n",
       "    </tr>\n",
       "  </thead>\n",
       "  <tbody>\n",
       "    <tr>\n",
       "      <th>0</th>\n",
       "      <td>10</td>\n",
       "      <td>2021-01-22T10:13:54.418035+00:00</td>\n",
       "      <td>2021-01-22T10:15:11.329375+00:00</td>\n",
       "      <td>POLYGON ((456547.427 91543.640, 456544.255 915...</td>\n",
       "      <td>2318555</td>\n",
       "      <td>1300</td>\n",
       "      <td>2000-01-01</td>\n",
       "    </tr>\n",
       "    <tr>\n",
       "      <th>1</th>\n",
       "      <td>86</td>\n",
       "      <td>2021-01-22T10:13:54.418035+00:00</td>\n",
       "      <td>2021-01-22T10:15:11.329375+00:00</td>\n",
       "      <td>POLYGON ((454709.766 97354.278, 454704.878 973...</td>\n",
       "      <td>2331038</td>\n",
       "      <td>1300</td>\n",
       "      <td>2000-01-01</td>\n",
       "    </tr>\n",
       "    <tr>\n",
       "      <th>2</th>\n",
       "      <td>2</td>\n",
       "      <td>2021-01-22T10:13:54.418035+00:00</td>\n",
       "      <td>2021-01-22T10:15:11.329375+00:00</td>\n",
       "      <td>POLYGON ((453810.376 91150.199, 453812.552 911...</td>\n",
       "      <td>4770325</td>\n",
       "      <td>1300</td>\n",
       "      <td>2000-01-01</td>\n",
       "    </tr>\n",
       "    <tr>\n",
       "      <th>3</th>\n",
       "      <td>63</td>\n",
       "      <td>2021-01-22T10:13:54.418035+00:00</td>\n",
       "      <td>2021-01-22T10:15:11.329375+00:00</td>\n",
       "      <td>POLYGON ((456201.531 98685.274, 456199.109 986...</td>\n",
       "      <td>2304287</td>\n",
       "      <td>1300</td>\n",
       "      <td>2000-01-01</td>\n",
       "    </tr>\n",
       "    <tr>\n",
       "      <th>4</th>\n",
       "      <td>87</td>\n",
       "      <td>2021-01-22T10:13:54.418035+00:00</td>\n",
       "      <td>2021-01-22T10:15:11.329375+00:00</td>\n",
       "      <td>POLYGON ((453820.737 98574.017, 453816.740 985...</td>\n",
       "      <td>2357574</td>\n",
       "      <td>1300</td>\n",
       "      <td>2000-01-01</td>\n",
       "    </tr>\n",
       "    <tr>\n",
       "      <th>5</th>\n",
       "      <td>92</td>\n",
       "      <td>2021-01-22T10:13:54.418035+00:00</td>\n",
       "      <td>2021-01-22T10:15:11.329375+00:00</td>\n",
       "      <td>POLYGON ((461723.552 99635.913, 461729.649 996...</td>\n",
       "      <td>2332405</td>\n",
       "      <td>1300</td>\n",
       "      <td>2000-01-01</td>\n",
       "    </tr>\n",
       "  </tbody>\n",
       "</table>\n",
       "</div>"
      ],
      "text/plain": [
       "   id                        created_at                       modified_at  \\\n",
       "0  10  2021-01-22T10:13:54.418035+00:00  2021-01-22T10:15:11.329375+00:00   \n",
       "1  86  2021-01-22T10:13:54.418035+00:00  2021-01-22T10:15:11.329375+00:00   \n",
       "2   2  2021-01-22T10:13:54.418035+00:00  2021-01-22T10:15:11.329375+00:00   \n",
       "3  63  2021-01-22T10:13:54.418035+00:00  2021-01-22T10:15:11.329375+00:00   \n",
       "4  87  2021-01-22T10:13:54.418035+00:00  2021-01-22T10:15:11.329375+00:00   \n",
       "5  92  2021-01-22T10:13:54.418035+00:00  2021-01-22T10:15:11.329375+00:00   \n",
       "\n",
       "                                            geometry  raba_pid  raba_id  \\\n",
       "0  POLYGON ((456547.427 91543.640, 456544.255 915...   2318555     1300   \n",
       "1  POLYGON ((454709.766 97354.278, 454704.878 973...   2331038     1300   \n",
       "2  POLYGON ((453810.376 91150.199, 453812.552 911...   4770325     1300   \n",
       "3  POLYGON ((456201.531 98685.274, 456199.109 986...   2304287     1300   \n",
       "4  POLYGON ((453820.737 98574.017, 453816.740 985...   2357574     1300   \n",
       "5  POLYGON ((461723.552 99635.913, 461729.649 996...   2332405     1300   \n",
       "\n",
       "         d_od  \n",
       "0  2000-01-01  \n",
       "1  2000-01-01  \n",
       "2  2000-01-01  \n",
       "3  2000-01-01  \n",
       "4  2000-01-01  \n",
       "5  2000-01-01  "
      ]
     },
     "execution_count": 15,
     "metadata": {},
     "output_type": "execute_result"
    }
   ],
   "source": [
    "geodb.get_collection('land_use', query=\"raba_id=eq.1300\")"
   ]
  },
  {
   "cell_type": "markdown",
   "metadata": {},
   "source": [
    "## Managing Properties of a Collection"
   ]
  },
  {
   "cell_type": "code",
   "execution_count": 16,
   "metadata": {},
   "outputs": [
    {
     "data": {
      "text/html": [
       "<div>\n",
       "<style scoped>\n",
       "    .dataframe tbody tr th:only-of-type {\n",
       "        vertical-align: middle;\n",
       "    }\n",
       "\n",
       "    .dataframe tbody tr th {\n",
       "        vertical-align: top;\n",
       "    }\n",
       "\n",
       "    .dataframe thead th {\n",
       "        text-align: right;\n",
       "    }\n",
       "</style>\n",
       "<table border=\"1\" class=\"dataframe\">\n",
       "  <thead>\n",
       "    <tr style=\"text-align: right;\">\n",
       "      <th></th>\n",
       "      <th>owner</th>\n",
       "      <th>database</th>\n",
       "      <th>table_name</th>\n",
       "    </tr>\n",
       "  </thead>\n",
       "  <tbody>\n",
       "    <tr>\n",
       "      <th>0</th>\n",
       "      <td>geodb_9bfgsdfg-453f-445b-a459</td>\n",
       "      <td>geodb_9bfgsdfg-453f-445b-a459</td>\n",
       "      <td>land_use</td>\n",
       "    </tr>\n",
       "    <tr>\n",
       "      <th>1</th>\n",
       "      <td>geodb_ci_test_user</td>\n",
       "      <td>geodb_ci_test_user</td>\n",
       "      <td>land_use</td>\n",
       "    </tr>\n",
       "    <tr>\n",
       "      <th>2</th>\n",
       "      <td>tt</td>\n",
       "      <td>tt</td>\n",
       "      <td>tt300</td>\n",
       "    </tr>\n",
       "  </tbody>\n",
       "</table>\n",
       "</div>"
      ],
      "text/plain": [
       "                           owner                       database table_name\n",
       "0  geodb_9bfgsdfg-453f-445b-a459  geodb_9bfgsdfg-453f-445b-a459   land_use\n",
       "1             geodb_ci_test_user             geodb_ci_test_user   land_use\n",
       "2                             tt                             tt      tt300"
      ]
     },
     "execution_count": 16,
     "metadata": {},
     "output_type": "execute_result"
    }
   ],
   "source": [
    "geodb.get_my_collections()"
   ]
  },
  {
   "cell_type": "code",
   "execution_count": 17,
   "metadata": {},
   "outputs": [
    {
     "data": {
      "text/html": [
       "<div>\n",
       "<style scoped>\n",
       "    .dataframe tbody tr th:only-of-type {\n",
       "        vertical-align: middle;\n",
       "    }\n",
       "\n",
       "    .dataframe tbody tr th {\n",
       "        vertical-align: top;\n",
       "    }\n",
       "\n",
       "    .dataframe thead th {\n",
       "        text-align: right;\n",
       "    }\n",
       "</style>\n",
       "<table border=\"1\" class=\"dataframe\">\n",
       "  <thead>\n",
       "    <tr style=\"text-align: right;\">\n",
       "      <th></th>\n",
       "      <th>database</th>\n",
       "      <th>table_name</th>\n",
       "      <th>column_name</th>\n",
       "      <th>data_type</th>\n",
       "    </tr>\n",
       "  </thead>\n",
       "  <tbody>\n",
       "    <tr>\n",
       "      <th>0</th>\n",
       "      <td>geodb_ci_test_user</td>\n",
       "      <td>land_use</td>\n",
       "      <td>id</td>\n",
       "      <td>integer</td>\n",
       "    </tr>\n",
       "    <tr>\n",
       "      <th>1</th>\n",
       "      <td>geodb_ci_test_user</td>\n",
       "      <td>land_use</td>\n",
       "      <td>created_at</td>\n",
       "      <td>timestamp with time zone</td>\n",
       "    </tr>\n",
       "    <tr>\n",
       "      <th>2</th>\n",
       "      <td>geodb_ci_test_user</td>\n",
       "      <td>land_use</td>\n",
       "      <td>modified_at</td>\n",
       "      <td>timestamp with time zone</td>\n",
       "    </tr>\n",
       "    <tr>\n",
       "      <th>3</th>\n",
       "      <td>geodb_ci_test_user</td>\n",
       "      <td>land_use</td>\n",
       "      <td>geometry</td>\n",
       "      <td>USER-DEFINED</td>\n",
       "    </tr>\n",
       "    <tr>\n",
       "      <th>4</th>\n",
       "      <td>geodb_ci_test_user</td>\n",
       "      <td>land_use</td>\n",
       "      <td>raba_pid</td>\n",
       "      <td>double precision</td>\n",
       "    </tr>\n",
       "    <tr>\n",
       "      <th>5</th>\n",
       "      <td>geodb_ci_test_user</td>\n",
       "      <td>land_use</td>\n",
       "      <td>raba_id</td>\n",
       "      <td>double precision</td>\n",
       "    </tr>\n",
       "    <tr>\n",
       "      <th>6</th>\n",
       "      <td>geodb_ci_test_user</td>\n",
       "      <td>land_use</td>\n",
       "      <td>d_od</td>\n",
       "      <td>date</td>\n",
       "    </tr>\n",
       "  </tbody>\n",
       "</table>\n",
       "</div>"
      ],
      "text/plain": [
       "             database table_name  column_name                 data_type\n",
       "0  geodb_ci_test_user   land_use           id                   integer\n",
       "1  geodb_ci_test_user   land_use   created_at  timestamp with time zone\n",
       "2  geodb_ci_test_user   land_use  modified_at  timestamp with time zone\n",
       "3  geodb_ci_test_user   land_use     geometry              USER-DEFINED\n",
       "4  geodb_ci_test_user   land_use     raba_pid          double precision\n",
       "5  geodb_ci_test_user   land_use      raba_id          double precision\n",
       "6  geodb_ci_test_user   land_use         d_od                      date"
      ]
     },
     "execution_count": 17,
     "metadata": {},
     "output_type": "execute_result"
    }
   ],
   "source": [
    "geodb.get_properties('land_use')"
   ]
  },
  {
   "cell_type": "code",
   "execution_count": 18,
   "metadata": {},
   "outputs": [
    {
     "data": {
      "text/plain": [
       "Properties added"
      ]
     },
     "execution_count": 18,
     "metadata": {},
     "output_type": "execute_result"
    }
   ],
   "source": [
    "geodb.add_property('land_use', \"test_prop\", 'integer')"
   ]
  },
  {
   "cell_type": "code",
   "execution_count": 19,
   "metadata": {},
   "outputs": [
    {
     "data": {
      "text/html": [
       "<div>\n",
       "<style scoped>\n",
       "    .dataframe tbody tr th:only-of-type {\n",
       "        vertical-align: middle;\n",
       "    }\n",
       "\n",
       "    .dataframe tbody tr th {\n",
       "        vertical-align: top;\n",
       "    }\n",
       "\n",
       "    .dataframe thead th {\n",
       "        text-align: right;\n",
       "    }\n",
       "</style>\n",
       "<table border=\"1\" class=\"dataframe\">\n",
       "  <thead>\n",
       "    <tr style=\"text-align: right;\">\n",
       "      <th></th>\n",
       "      <th>database</th>\n",
       "      <th>table_name</th>\n",
       "      <th>column_name</th>\n",
       "      <th>data_type</th>\n",
       "    </tr>\n",
       "  </thead>\n",
       "  <tbody>\n",
       "    <tr>\n",
       "      <th>0</th>\n",
       "      <td>geodb_ci_test_user</td>\n",
       "      <td>land_use</td>\n",
       "      <td>id</td>\n",
       "      <td>integer</td>\n",
       "    </tr>\n",
       "    <tr>\n",
       "      <th>1</th>\n",
       "      <td>geodb_ci_test_user</td>\n",
       "      <td>land_use</td>\n",
       "      <td>created_at</td>\n",
       "      <td>timestamp with time zone</td>\n",
       "    </tr>\n",
       "    <tr>\n",
       "      <th>2</th>\n",
       "      <td>geodb_ci_test_user</td>\n",
       "      <td>land_use</td>\n",
       "      <td>modified_at</td>\n",
       "      <td>timestamp with time zone</td>\n",
       "    </tr>\n",
       "    <tr>\n",
       "      <th>3</th>\n",
       "      <td>geodb_ci_test_user</td>\n",
       "      <td>land_use</td>\n",
       "      <td>geometry</td>\n",
       "      <td>USER-DEFINED</td>\n",
       "    </tr>\n",
       "    <tr>\n",
       "      <th>4</th>\n",
       "      <td>geodb_ci_test_user</td>\n",
       "      <td>land_use</td>\n",
       "      <td>raba_pid</td>\n",
       "      <td>double precision</td>\n",
       "    </tr>\n",
       "    <tr>\n",
       "      <th>5</th>\n",
       "      <td>geodb_ci_test_user</td>\n",
       "      <td>land_use</td>\n",
       "      <td>raba_id</td>\n",
       "      <td>double precision</td>\n",
       "    </tr>\n",
       "    <tr>\n",
       "      <th>6</th>\n",
       "      <td>geodb_ci_test_user</td>\n",
       "      <td>land_use</td>\n",
       "      <td>d_od</td>\n",
       "      <td>date</td>\n",
       "    </tr>\n",
       "    <tr>\n",
       "      <th>7</th>\n",
       "      <td>geodb_ci_test_user</td>\n",
       "      <td>land_use</td>\n",
       "      <td>test_prop</td>\n",
       "      <td>integer</td>\n",
       "    </tr>\n",
       "  </tbody>\n",
       "</table>\n",
       "</div>"
      ],
      "text/plain": [
       "             database table_name  column_name                 data_type\n",
       "0  geodb_ci_test_user   land_use           id                   integer\n",
       "1  geodb_ci_test_user   land_use   created_at  timestamp with time zone\n",
       "2  geodb_ci_test_user   land_use  modified_at  timestamp with time zone\n",
       "3  geodb_ci_test_user   land_use     geometry              USER-DEFINED\n",
       "4  geodb_ci_test_user   land_use     raba_pid          double precision\n",
       "5  geodb_ci_test_user   land_use      raba_id          double precision\n",
       "6  geodb_ci_test_user   land_use         d_od                      date\n",
       "7  geodb_ci_test_user   land_use    test_prop                   integer"
      ]
     },
     "execution_count": 19,
     "metadata": {},
     "output_type": "execute_result"
    }
   ],
   "source": [
    "geodb.get_properties('land_use')"
   ]
  },
  {
   "cell_type": "code",
   "execution_count": 20,
   "metadata": {},
   "outputs": [
    {
     "data": {
      "text/plain": [
       "Properties ['test_prop'] dropped from geodb_ci_test_user_land_use"
      ]
     },
     "execution_count": 20,
     "metadata": {},
     "output_type": "execute_result"
    }
   ],
   "source": [
    "geodb.drop_property('land_use', 'test_prop')"
   ]
  },
  {
   "cell_type": "code",
   "execution_count": 21,
   "metadata": {},
   "outputs": [
    {
     "data": {
      "text/html": [
       "<div>\n",
       "<style scoped>\n",
       "    .dataframe tbody tr th:only-of-type {\n",
       "        vertical-align: middle;\n",
       "    }\n",
       "\n",
       "    .dataframe tbody tr th {\n",
       "        vertical-align: top;\n",
       "    }\n",
       "\n",
       "    .dataframe thead th {\n",
       "        text-align: right;\n",
       "    }\n",
       "</style>\n",
       "<table border=\"1\" class=\"dataframe\">\n",
       "  <thead>\n",
       "    <tr style=\"text-align: right;\">\n",
       "      <th></th>\n",
       "      <th>database</th>\n",
       "      <th>table_name</th>\n",
       "      <th>column_name</th>\n",
       "      <th>data_type</th>\n",
       "    </tr>\n",
       "  </thead>\n",
       "  <tbody>\n",
       "    <tr>\n",
       "      <th>0</th>\n",
       "      <td>geodb_ci_test_user</td>\n",
       "      <td>land_use</td>\n",
       "      <td>id</td>\n",
       "      <td>integer</td>\n",
       "    </tr>\n",
       "    <tr>\n",
       "      <th>1</th>\n",
       "      <td>geodb_ci_test_user</td>\n",
       "      <td>land_use</td>\n",
       "      <td>created_at</td>\n",
       "      <td>timestamp with time zone</td>\n",
       "    </tr>\n",
       "    <tr>\n",
       "      <th>2</th>\n",
       "      <td>geodb_ci_test_user</td>\n",
       "      <td>land_use</td>\n",
       "      <td>modified_at</td>\n",
       "      <td>timestamp with time zone</td>\n",
       "    </tr>\n",
       "    <tr>\n",
       "      <th>3</th>\n",
       "      <td>geodb_ci_test_user</td>\n",
       "      <td>land_use</td>\n",
       "      <td>geometry</td>\n",
       "      <td>USER-DEFINED</td>\n",
       "    </tr>\n",
       "    <tr>\n",
       "      <th>4</th>\n",
       "      <td>geodb_ci_test_user</td>\n",
       "      <td>land_use</td>\n",
       "      <td>raba_pid</td>\n",
       "      <td>double precision</td>\n",
       "    </tr>\n",
       "    <tr>\n",
       "      <th>5</th>\n",
       "      <td>geodb_ci_test_user</td>\n",
       "      <td>land_use</td>\n",
       "      <td>raba_id</td>\n",
       "      <td>double precision</td>\n",
       "    </tr>\n",
       "    <tr>\n",
       "      <th>6</th>\n",
       "      <td>geodb_ci_test_user</td>\n",
       "      <td>land_use</td>\n",
       "      <td>d_od</td>\n",
       "      <td>date</td>\n",
       "    </tr>\n",
       "  </tbody>\n",
       "</table>\n",
       "</div>"
      ],
      "text/plain": [
       "             database table_name  column_name                 data_type\n",
       "0  geodb_ci_test_user   land_use           id                   integer\n",
       "1  geodb_ci_test_user   land_use   created_at  timestamp with time zone\n",
       "2  geodb_ci_test_user   land_use  modified_at  timestamp with time zone\n",
       "3  geodb_ci_test_user   land_use     geometry              USER-DEFINED\n",
       "4  geodb_ci_test_user   land_use     raba_pid          double precision\n",
       "5  geodb_ci_test_user   land_use      raba_id          double precision\n",
       "6  geodb_ci_test_user   land_use         d_od                      date"
      ]
     },
     "execution_count": 21,
     "metadata": {},
     "output_type": "execute_result"
    }
   ],
   "source": [
    "geodb.get_properties('land_use')"
   ]
  },
  {
   "cell_type": "code",
   "execution_count": 22,
   "metadata": {},
   "outputs": [
    {
     "data": {
      "text/plain": [
       "Properties added"
      ]
     },
     "execution_count": 22,
     "metadata": {},
     "output_type": "execute_result"
    }
   ],
   "source": [
    "geodb.add_properties('land_use', properties={'test1': 'integer', 'test2': 'date'})"
   ]
  },
  {
   "cell_type": "code",
   "execution_count": 23,
   "metadata": {},
   "outputs": [
    {
     "data": {
      "text/html": [
       "<div>\n",
       "<style scoped>\n",
       "    .dataframe tbody tr th:only-of-type {\n",
       "        vertical-align: middle;\n",
       "    }\n",
       "\n",
       "    .dataframe tbody tr th {\n",
       "        vertical-align: top;\n",
       "    }\n",
       "\n",
       "    .dataframe thead th {\n",
       "        text-align: right;\n",
       "    }\n",
       "</style>\n",
       "<table border=\"1\" class=\"dataframe\">\n",
       "  <thead>\n",
       "    <tr style=\"text-align: right;\">\n",
       "      <th></th>\n",
       "      <th>database</th>\n",
       "      <th>table_name</th>\n",
       "      <th>column_name</th>\n",
       "      <th>data_type</th>\n",
       "    </tr>\n",
       "  </thead>\n",
       "  <tbody>\n",
       "    <tr>\n",
       "      <th>0</th>\n",
       "      <td>geodb_ci_test_user</td>\n",
       "      <td>land_use</td>\n",
       "      <td>id</td>\n",
       "      <td>integer</td>\n",
       "    </tr>\n",
       "    <tr>\n",
       "      <th>1</th>\n",
       "      <td>geodb_ci_test_user</td>\n",
       "      <td>land_use</td>\n",
       "      <td>created_at</td>\n",
       "      <td>timestamp with time zone</td>\n",
       "    </tr>\n",
       "    <tr>\n",
       "      <th>2</th>\n",
       "      <td>geodb_ci_test_user</td>\n",
       "      <td>land_use</td>\n",
       "      <td>modified_at</td>\n",
       "      <td>timestamp with time zone</td>\n",
       "    </tr>\n",
       "    <tr>\n",
       "      <th>3</th>\n",
       "      <td>geodb_ci_test_user</td>\n",
       "      <td>land_use</td>\n",
       "      <td>geometry</td>\n",
       "      <td>USER-DEFINED</td>\n",
       "    </tr>\n",
       "    <tr>\n",
       "      <th>4</th>\n",
       "      <td>geodb_ci_test_user</td>\n",
       "      <td>land_use</td>\n",
       "      <td>raba_pid</td>\n",
       "      <td>double precision</td>\n",
       "    </tr>\n",
       "    <tr>\n",
       "      <th>5</th>\n",
       "      <td>geodb_ci_test_user</td>\n",
       "      <td>land_use</td>\n",
       "      <td>raba_id</td>\n",
       "      <td>double precision</td>\n",
       "    </tr>\n",
       "    <tr>\n",
       "      <th>6</th>\n",
       "      <td>geodb_ci_test_user</td>\n",
       "      <td>land_use</td>\n",
       "      <td>d_od</td>\n",
       "      <td>date</td>\n",
       "    </tr>\n",
       "    <tr>\n",
       "      <th>7</th>\n",
       "      <td>geodb_ci_test_user</td>\n",
       "      <td>land_use</td>\n",
       "      <td>test1</td>\n",
       "      <td>integer</td>\n",
       "    </tr>\n",
       "    <tr>\n",
       "      <th>8</th>\n",
       "      <td>geodb_ci_test_user</td>\n",
       "      <td>land_use</td>\n",
       "      <td>test2</td>\n",
       "      <td>date</td>\n",
       "    </tr>\n",
       "  </tbody>\n",
       "</table>\n",
       "</div>"
      ],
      "text/plain": [
       "             database table_name  column_name                 data_type\n",
       "0  geodb_ci_test_user   land_use           id                   integer\n",
       "1  geodb_ci_test_user   land_use   created_at  timestamp with time zone\n",
       "2  geodb_ci_test_user   land_use  modified_at  timestamp with time zone\n",
       "3  geodb_ci_test_user   land_use     geometry              USER-DEFINED\n",
       "4  geodb_ci_test_user   land_use     raba_pid          double precision\n",
       "5  geodb_ci_test_user   land_use      raba_id          double precision\n",
       "6  geodb_ci_test_user   land_use         d_od                      date\n",
       "7  geodb_ci_test_user   land_use        test1                   integer\n",
       "8  geodb_ci_test_user   land_use        test2                      date"
      ]
     },
     "execution_count": 23,
     "metadata": {},
     "output_type": "execute_result"
    }
   ],
   "source": [
    "geodb.get_properties('land_use')"
   ]
  },
  {
   "cell_type": "code",
   "execution_count": 24,
   "metadata": {},
   "outputs": [
    {
     "data": {
      "text/plain": [
       "Properties ['test1', 'test2'] dropped from geodb_ci_test_user_land_use"
      ]
     },
     "execution_count": 24,
     "metadata": {},
     "output_type": "execute_result"
    }
   ],
   "source": [
    "geodb.drop_properties('land_use', properties=['test1', 'test2'])"
   ]
  },
  {
   "cell_type": "code",
   "execution_count": 8,
   "metadata": {},
   "outputs": [
    {
     "data": {
      "text/html": [
       "<div>\n",
       "<style scoped>\n",
       "    .dataframe tbody tr th:only-of-type {\n",
       "        vertical-align: middle;\n",
       "    }\n",
       "\n",
       "    .dataframe tbody tr th {\n",
       "        vertical-align: top;\n",
       "    }\n",
       "\n",
       "    .dataframe thead th {\n",
       "        text-align: right;\n",
       "    }\n",
       "</style>\n",
       "<table border=\"1\" class=\"dataframe\">\n",
       "  <thead>\n",
       "    <tr style=\"text-align: right;\">\n",
       "      <th></th>\n",
       "      <th>table_name</th>\n",
       "      <th>column_name</th>\n",
       "      <th>data_type</th>\n",
       "    </tr>\n",
       "  </thead>\n",
       "  <tbody>\n",
       "    <tr>\n",
       "      <th>0</th>\n",
       "      <td>geodb_admin_land_use</td>\n",
       "      <td>id</td>\n",
       "      <td>integer</td>\n",
       "    </tr>\n",
       "    <tr>\n",
       "      <th>1</th>\n",
       "      <td>geodb_admin_land_use</td>\n",
       "      <td>created_at</td>\n",
       "      <td>timestamp with time zone</td>\n",
       "    </tr>\n",
       "    <tr>\n",
       "      <th>2</th>\n",
       "      <td>geodb_admin_land_use</td>\n",
       "      <td>modified_at</td>\n",
       "      <td>timestamp with time zone</td>\n",
       "    </tr>\n",
       "    <tr>\n",
       "      <th>3</th>\n",
       "      <td>geodb_admin_land_use</td>\n",
       "      <td>geometry</td>\n",
       "      <td>USER-DEFINED</td>\n",
       "    </tr>\n",
       "    <tr>\n",
       "      <th>4</th>\n",
       "      <td>geodb_admin_land_use</td>\n",
       "      <td>raba_pid</td>\n",
       "      <td>double precision</td>\n",
       "    </tr>\n",
       "    <tr>\n",
       "      <th>5</th>\n",
       "      <td>geodb_admin_land_use</td>\n",
       "      <td>raba_id</td>\n",
       "      <td>double precision</td>\n",
       "    </tr>\n",
       "    <tr>\n",
       "      <th>6</th>\n",
       "      <td>geodb_admin_land_use</td>\n",
       "      <td>d_od</td>\n",
       "      <td>date</td>\n",
       "    </tr>\n",
       "    <tr>\n",
       "      <th>7</th>\n",
       "      <td>geodb_admin_land_use</td>\n",
       "      <td>testä_prop</td>\n",
       "      <td>integer</td>\n",
       "    </tr>\n",
       "  </tbody>\n",
       "</table>\n",
       "</div>"
      ],
      "text/plain": [
       "             table_name  column_name                 data_type\n",
       "0  geodb_admin_land_use           id                   integer\n",
       "1  geodb_admin_land_use   created_at  timestamp with time zone\n",
       "2  geodb_admin_land_use  modified_at  timestamp with time zone\n",
       "3  geodb_admin_land_use     geometry              USER-DEFINED\n",
       "4  geodb_admin_land_use     raba_pid          double precision\n",
       "5  geodb_admin_land_use      raba_id          double precision\n",
       "6  geodb_admin_land_use         d_od                      date\n",
       "7  geodb_admin_land_use   testä_prop                   integer"
      ]
     },
     "execution_count": 8,
     "metadata": {},
     "output_type": "execute_result"
    }
   ],
   "source": [
    "geodb.get_properties('land_use')"
   ]
  },
  {
   "cell_type": "code",
   "execution_count": 25,
   "metadata": {},
   "outputs": [
    {
     "data": {
      "text/plain": [
       "Collection ['geodb_ci_test_user_land_use'] deleted"
      ]
     },
     "execution_count": 25,
     "metadata": {},
     "output_type": "execute_result"
    }
   ],
   "source": [
    "geodb.drop_collection('land_use')"
   ]
  },
  {
   "cell_type": "code",
   "execution_count": null,
   "metadata": {},
   "outputs": [],
   "source": []
  }
 ],
 "metadata": {
  "kernelspec": {
   "display_name": "Python 3",
   "language": "python",
   "name": "python3"
  },
  "language_info": {
   "codemirror_mode": {
    "name": "ipython",
    "version": 3
   },
   "file_extension": ".py",
   "mimetype": "text/x-python",
   "name": "python",
   "nbconvert_exporter": "python",
   "pygments_lexer": "ipython3",
   "version": "3.9.5"
  }
 },
 "nbformat": 4,
 "nbformat_minor": 4
}
